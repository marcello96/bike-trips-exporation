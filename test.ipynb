{
 "cells": [
  {
   "cell_type": "code",
   "execution_count": 20,
   "metadata": {
    "pycharm": {
     "is_executing": false
    }
   },
   "outputs": [],
   "source": [
    "import pandas as pd\n",
    "import plotly.graph_objects as go\n",
    "import matplotlib.pyplot as plt"
   ]
  },
  {
   "cell_type": "code",
   "execution_count": 2,
   "metadata": {
    "pycharm": {
     "is_executing": false,
     "name": "#%%\n"
    }
   },
   "outputs": [],
   "source": [
    "data = pd.read_csv('tripdata.csv')"
   ]
  },
  {
   "cell_type": "code",
   "execution_count": 3,
   "metadata": {
    "pycharm": {
     "is_executing": false,
     "name": "#%%\n"
    }
   },
   "outputs": [
    {
     "data": {
      "text/html": [
       "<div>\n",
       "<style scoped>\n",
       "    .dataframe tbody tr th:only-of-type {\n",
       "        vertical-align: middle;\n",
       "    }\n",
       "\n",
       "    .dataframe tbody tr th {\n",
       "        vertical-align: top;\n",
       "    }\n",
       "\n",
       "    .dataframe thead th {\n",
       "        text-align: right;\n",
       "    }\n",
       "</style>\n",
       "<table border=\"1\" class=\"dataframe\">\n",
       "  <thead>\n",
       "    <tr style=\"text-align: right;\">\n",
       "      <th></th>\n",
       "      <th>tripduration</th>\n",
       "      <th>starttime</th>\n",
       "      <th>stoptime</th>\n",
       "      <th>start station id</th>\n",
       "      <th>start station name</th>\n",
       "      <th>start station latitude</th>\n",
       "      <th>start station longitude</th>\n",
       "      <th>end station id</th>\n",
       "      <th>end station name</th>\n",
       "      <th>end station latitude</th>\n",
       "      <th>end station longitude</th>\n",
       "      <th>bikeid</th>\n",
       "      <th>usertype</th>\n",
       "      <th>birth year</th>\n",
       "      <th>gender</th>\n",
       "    </tr>\n",
       "  </thead>\n",
       "  <tbody>\n",
       "    <tr>\n",
       "      <th>0</th>\n",
       "      <td>327</td>\n",
       "      <td>2019-09-01 00:00:01.9580</td>\n",
       "      <td>2019-09-01 00:05:29.3410</td>\n",
       "      <td>3733</td>\n",
       "      <td>Avenue C &amp; E 18 St</td>\n",
       "      <td>40.730563</td>\n",
       "      <td>-73.973984</td>\n",
       "      <td>504</td>\n",
       "      <td>1 Ave &amp; E 16 St</td>\n",
       "      <td>40.732219</td>\n",
       "      <td>-73.981656</td>\n",
       "      <td>39213</td>\n",
       "      <td>Subscriber</td>\n",
       "      <td>1968</td>\n",
       "      <td>1</td>\n",
       "    </tr>\n",
       "    <tr>\n",
       "      <th>1</th>\n",
       "      <td>1145</td>\n",
       "      <td>2019-09-01 00:00:04.1430</td>\n",
       "      <td>2019-09-01 00:19:09.8360</td>\n",
       "      <td>3329</td>\n",
       "      <td>Degraw St &amp; Smith St</td>\n",
       "      <td>40.682915</td>\n",
       "      <td>-73.993182</td>\n",
       "      <td>270</td>\n",
       "      <td>Adelphi St &amp; Myrtle Ave</td>\n",
       "      <td>40.693083</td>\n",
       "      <td>-73.971789</td>\n",
       "      <td>21257</td>\n",
       "      <td>Customer</td>\n",
       "      <td>1969</td>\n",
       "      <td>0</td>\n",
       "    </tr>\n",
       "    <tr>\n",
       "      <th>2</th>\n",
       "      <td>1293</td>\n",
       "      <td>2019-09-01 00:00:07.3090</td>\n",
       "      <td>2019-09-01 00:21:40.7580</td>\n",
       "      <td>3168</td>\n",
       "      <td>Central Park West &amp; W 85 St</td>\n",
       "      <td>40.784727</td>\n",
       "      <td>-73.969617</td>\n",
       "      <td>423</td>\n",
       "      <td>W 54 St &amp; 9 Ave</td>\n",
       "      <td>40.765849</td>\n",
       "      <td>-73.986905</td>\n",
       "      <td>15242</td>\n",
       "      <td>Customer</td>\n",
       "      <td>1969</td>\n",
       "      <td>0</td>\n",
       "    </tr>\n",
       "    <tr>\n",
       "      <th>3</th>\n",
       "      <td>1753</td>\n",
       "      <td>2019-09-01 00:00:08.0640</td>\n",
       "      <td>2019-09-01 00:29:21.5040</td>\n",
       "      <td>3299</td>\n",
       "      <td>E 98 St &amp; Park Ave</td>\n",
       "      <td>40.788130</td>\n",
       "      <td>-73.952060</td>\n",
       "      <td>3160</td>\n",
       "      <td>Central Park West &amp; W 76 St</td>\n",
       "      <td>40.778968</td>\n",
       "      <td>-73.973747</td>\n",
       "      <td>38760</td>\n",
       "      <td>Subscriber</td>\n",
       "      <td>1990</td>\n",
       "      <td>1</td>\n",
       "    </tr>\n",
       "    <tr>\n",
       "      <th>4</th>\n",
       "      <td>613</td>\n",
       "      <td>2019-09-01 00:00:12.8510</td>\n",
       "      <td>2019-09-01 00:10:26.1850</td>\n",
       "      <td>486</td>\n",
       "      <td>Broadway &amp; W 29 St</td>\n",
       "      <td>40.746201</td>\n",
       "      <td>-73.988557</td>\n",
       "      <td>478</td>\n",
       "      <td>11 Ave &amp; W 41 St</td>\n",
       "      <td>40.760301</td>\n",
       "      <td>-73.998842</td>\n",
       "      <td>32094</td>\n",
       "      <td>Subscriber</td>\n",
       "      <td>1992</td>\n",
       "      <td>1</td>\n",
       "    </tr>\n",
       "    <tr>\n",
       "      <th>...</th>\n",
       "      <td>...</td>\n",
       "      <td>...</td>\n",
       "      <td>...</td>\n",
       "      <td>...</td>\n",
       "      <td>...</td>\n",
       "      <td>...</td>\n",
       "      <td>...</td>\n",
       "      <td>...</td>\n",
       "      <td>...</td>\n",
       "      <td>...</td>\n",
       "      <td>...</td>\n",
       "      <td>...</td>\n",
       "      <td>...</td>\n",
       "      <td>...</td>\n",
       "      <td>...</td>\n",
       "    </tr>\n",
       "    <tr>\n",
       "      <th>2444895</th>\n",
       "      <td>1764</td>\n",
       "      <td>2019-09-30 23:59:22.7670</td>\n",
       "      <td>2019-10-01 00:28:47.3180</td>\n",
       "      <td>3314</td>\n",
       "      <td>W 95 St &amp; Broadway</td>\n",
       "      <td>40.793770</td>\n",
       "      <td>-73.971888</td>\n",
       "      <td>3161</td>\n",
       "      <td>W 76 St &amp; Columbus Ave</td>\n",
       "      <td>40.780184</td>\n",
       "      <td>-73.977285</td>\n",
       "      <td>41516</td>\n",
       "      <td>Customer</td>\n",
       "      <td>1995</td>\n",
       "      <td>1</td>\n",
       "    </tr>\n",
       "    <tr>\n",
       "      <th>2444896</th>\n",
       "      <td>378</td>\n",
       "      <td>2019-09-30 23:59:27.9270</td>\n",
       "      <td>2019-10-01 00:05:46.5700</td>\n",
       "      <td>316</td>\n",
       "      <td>Fulton St &amp; William St</td>\n",
       "      <td>40.709560</td>\n",
       "      <td>-74.006536</td>\n",
       "      <td>327</td>\n",
       "      <td>Vesey Pl &amp; River Terrace</td>\n",
       "      <td>40.715338</td>\n",
       "      <td>-74.016584</td>\n",
       "      <td>31124</td>\n",
       "      <td>Subscriber</td>\n",
       "      <td>1959</td>\n",
       "      <td>2</td>\n",
       "    </tr>\n",
       "    <tr>\n",
       "      <th>2444897</th>\n",
       "      <td>561</td>\n",
       "      <td>2019-09-30 23:59:29.1450</td>\n",
       "      <td>2019-10-01 00:08:50.8070</td>\n",
       "      <td>3260</td>\n",
       "      <td>Mercer St &amp; Bleecker St</td>\n",
       "      <td>40.727064</td>\n",
       "      <td>-73.996621</td>\n",
       "      <td>393</td>\n",
       "      <td>E 5 St &amp; Avenue C</td>\n",
       "      <td>40.722992</td>\n",
       "      <td>-73.979955</td>\n",
       "      <td>30285</td>\n",
       "      <td>Customer</td>\n",
       "      <td>1998</td>\n",
       "      <td>1</td>\n",
       "    </tr>\n",
       "    <tr>\n",
       "      <th>2444898</th>\n",
       "      <td>311</td>\n",
       "      <td>2019-09-30 23:59:42.2520</td>\n",
       "      <td>2019-10-01 00:04:54.2320</td>\n",
       "      <td>3746</td>\n",
       "      <td>6 Ave &amp; Broome St</td>\n",
       "      <td>40.724308</td>\n",
       "      <td>-74.004730</td>\n",
       "      <td>3435</td>\n",
       "      <td>Grand St &amp; Elizabeth St</td>\n",
       "      <td>40.718822</td>\n",
       "      <td>-73.995960</td>\n",
       "      <td>38290</td>\n",
       "      <td>Subscriber</td>\n",
       "      <td>1989</td>\n",
       "      <td>1</td>\n",
       "    </tr>\n",
       "    <tr>\n",
       "      <th>2444899</th>\n",
       "      <td>1500</td>\n",
       "      <td>2019-09-30 23:59:55.3740</td>\n",
       "      <td>2019-10-01 00:24:55.8400</td>\n",
       "      <td>331</td>\n",
       "      <td>Pike St &amp; Monroe St</td>\n",
       "      <td>40.711731</td>\n",
       "      <td>-73.991930</td>\n",
       "      <td>2012</td>\n",
       "      <td>E 27 St &amp; 1 Ave</td>\n",
       "      <td>40.739445</td>\n",
       "      <td>-73.976806</td>\n",
       "      <td>34013</td>\n",
       "      <td>Customer</td>\n",
       "      <td>1969</td>\n",
       "      <td>0</td>\n",
       "    </tr>\n",
       "  </tbody>\n",
       "</table>\n",
       "<p>2444900 rows × 15 columns</p>\n",
       "</div>"
      ],
      "text/plain": [
       "         tripduration                 starttime                  stoptime  \\\n",
       "0                 327  2019-09-01 00:00:01.9580  2019-09-01 00:05:29.3410   \n",
       "1                1145  2019-09-01 00:00:04.1430  2019-09-01 00:19:09.8360   \n",
       "2                1293  2019-09-01 00:00:07.3090  2019-09-01 00:21:40.7580   \n",
       "3                1753  2019-09-01 00:00:08.0640  2019-09-01 00:29:21.5040   \n",
       "4                 613  2019-09-01 00:00:12.8510  2019-09-01 00:10:26.1850   \n",
       "...               ...                       ...                       ...   \n",
       "2444895          1764  2019-09-30 23:59:22.7670  2019-10-01 00:28:47.3180   \n",
       "2444896           378  2019-09-30 23:59:27.9270  2019-10-01 00:05:46.5700   \n",
       "2444897           561  2019-09-30 23:59:29.1450  2019-10-01 00:08:50.8070   \n",
       "2444898           311  2019-09-30 23:59:42.2520  2019-10-01 00:04:54.2320   \n",
       "2444899          1500  2019-09-30 23:59:55.3740  2019-10-01 00:24:55.8400   \n",
       "\n",
       "         start station id           start station name  \\\n",
       "0                    3733           Avenue C & E 18 St   \n",
       "1                    3329         Degraw St & Smith St   \n",
       "2                    3168  Central Park West & W 85 St   \n",
       "3                    3299           E 98 St & Park Ave   \n",
       "4                     486           Broadway & W 29 St   \n",
       "...                   ...                          ...   \n",
       "2444895              3314           W 95 St & Broadway   \n",
       "2444896               316       Fulton St & William St   \n",
       "2444897              3260      Mercer St & Bleecker St   \n",
       "2444898              3746            6 Ave & Broome St   \n",
       "2444899               331          Pike St & Monroe St   \n",
       "\n",
       "         start station latitude  start station longitude  end station id  \\\n",
       "0                     40.730563               -73.973984             504   \n",
       "1                     40.682915               -73.993182             270   \n",
       "2                     40.784727               -73.969617             423   \n",
       "3                     40.788130               -73.952060            3160   \n",
       "4                     40.746201               -73.988557             478   \n",
       "...                         ...                      ...             ...   \n",
       "2444895               40.793770               -73.971888            3161   \n",
       "2444896               40.709560               -74.006536             327   \n",
       "2444897               40.727064               -73.996621             393   \n",
       "2444898               40.724308               -74.004730            3435   \n",
       "2444899               40.711731               -73.991930            2012   \n",
       "\n",
       "                    end station name  end station latitude  \\\n",
       "0                    1 Ave & E 16 St             40.732219   \n",
       "1            Adelphi St & Myrtle Ave             40.693083   \n",
       "2                    W 54 St & 9 Ave             40.765849   \n",
       "3        Central Park West & W 76 St             40.778968   \n",
       "4                   11 Ave & W 41 St             40.760301   \n",
       "...                              ...                   ...   \n",
       "2444895       W 76 St & Columbus Ave             40.780184   \n",
       "2444896     Vesey Pl & River Terrace             40.715338   \n",
       "2444897            E 5 St & Avenue C             40.722992   \n",
       "2444898      Grand St & Elizabeth St             40.718822   \n",
       "2444899              E 27 St & 1 Ave             40.739445   \n",
       "\n",
       "         end station longitude  bikeid    usertype  birth year  gender  \n",
       "0                   -73.981656   39213  Subscriber        1968       1  \n",
       "1                   -73.971789   21257    Customer        1969       0  \n",
       "2                   -73.986905   15242    Customer        1969       0  \n",
       "3                   -73.973747   38760  Subscriber        1990       1  \n",
       "4                   -73.998842   32094  Subscriber        1992       1  \n",
       "...                        ...     ...         ...         ...     ...  \n",
       "2444895             -73.977285   41516    Customer        1995       1  \n",
       "2444896             -74.016584   31124  Subscriber        1959       2  \n",
       "2444897             -73.979955   30285    Customer        1998       1  \n",
       "2444898             -73.995960   38290  Subscriber        1989       1  \n",
       "2444899             -73.976806   34013    Customer        1969       0  \n",
       "\n",
       "[2444900 rows x 15 columns]"
      ]
     },
     "execution_count": 3,
     "metadata": {},
     "output_type": "execute_result"
    }
   ],
   "source": [
    "data"
   ]
  },
  {
   "cell_type": "code",
   "execution_count": 4,
   "metadata": {
    "pycharm": {
     "name": "#%%\n"
    }
   },
   "outputs": [
    {
     "data": {
      "text/plain": [
       "array(['tripduration', 'starttime', 'stoptime', 'start station id',\n",
       "       'start station name', 'start station latitude',\n",
       "       'start station longitude', 'end station id', 'end station name',\n",
       "       'end station latitude', 'end station longitude', 'bikeid',\n",
       "       'usertype', 'birth year', 'gender'], dtype=object)"
      ]
     },
     "execution_count": 4,
     "metadata": {},
     "output_type": "execute_result"
    }
   ],
   "source": [
    "data.columns.values"
   ]
  },
  {
   "cell_type": "code",
   "execution_count": 5,
   "metadata": {
    "pycharm": {
     "is_executing": false
    }
   },
   "outputs": [],
   "source": [
    "data.columns = ['trip_duration', 'start_time', 'stop_time', 'start_station_id', 'start_station_name', \n",
    "                'start_station_lat', 'start_station_lon', 'end_station_id', 'end_station_name',\n",
    "               'end_station_lat', 'end_station_lon', 'bike_id', \n",
    "               'user_type', 'birth_year', 'gender']"
   ]
  },
  {
   "cell_type": "code",
   "execution_count": null,
   "metadata": {
    "pycharm": {
     "name": "#%%\n"
    }
   },
   "outputs": [],
   "source": []
  },
  {
   "cell_type": "code",
   "execution_count": 6,
   "metadata": {},
   "outputs": [],
   "source": [
    "DATE = '2019-09-06'\n",
    "mdata = data.loc[data['start_time'].str.contains(DATE)].sample(n=50)"
   ]
  },
  {
   "cell_type": "code",
   "execution_count": 7,
   "metadata": {},
   "outputs": [],
   "source": [
    "def prepare_trace(row):\n",
    "    return go.Scattermapbox(\n",
    "        lat=[row['start_station_lat'], row['end_station_lat']],\n",
    "        lon=[row['start_station_lon'], row['end_station_lon']],\n",
    "        mode='markers+lines',\n",
    "        marker=go.scattermapbox.Marker(\n",
    "            size=14\n",
    "    ))"
   ]
  },
  {
   "cell_type": "code",
   "execution_count": 32,
   "metadata": {
    "pycharm": {
     "is_executing": false
    },
    "scrolled": false
   },
   "outputs": [
    {
     "data": {
      "application/vnd.plotly.v1+json": {
       "config": {
        "plotlyServerURL": "https://plot.ly"
       },
       "data": [
        {
         "lat": [
          40.751396,
          40.73944820130404
         ],
         "lon": [
          -74.00522600000001,
          -74.00507032871245
         ],
         "marker": {
          "size": 14
         },
         "mode": "markers+lines",
         "type": "scattermapbox"
        },
        {
         "lat": [
          40.73935542,
          40.73535398
         ],
         "lon": [
          -73.99931783,
          -74.00483091
         ],
         "marker": {
          "size": 14
         },
         "mode": "markers+lines",
         "type": "scattermapbox"
        },
        {
         "lat": [
          40.75929124,
          40.76019252
         ],
         "lon": [
          -73.98859651,
          -73.9912551
         ],
         "marker": {
          "size": 14
         },
         "mode": "markers+lines",
         "type": "scattermapbox"
        },
        {
         "lat": [
          40.73291553,
          40.732690000000005
         ],
         "lon": [
          -74.00711384,
          -73.98974
         ],
         "marker": {
          "size": 14
         },
         "mode": "markers+lines",
         "type": "scattermapbox"
        },
        {
         "lat": [
          40.771496710544405,
          40.771496710544405
         ],
         "lon": [
          -73.99046033620834,
          -73.99046033620834
         ],
         "marker": {
          "size": 14
         },
         "mode": "markers+lines",
         "type": "scattermapbox"
        },
        {
         "lat": [
          40.71117444,
          40.71602118
         ],
         "lon": [
          -73.99682619,
          -73.99974372
         ],
         "marker": {
          "size": 14
         },
         "mode": "markers+lines",
         "type": "scattermapbox"
        },
        {
         "lat": [
          40.76019252,
          40.749717753
         ],
         "lon": [
          -73.9912551,
          -74.002950346
         ],
         "marker": {
          "size": 14
         },
         "mode": "markers+lines",
         "type": "scattermapbox"
        },
        {
         "lat": [
          40.72740794,
          40.73331967
         ],
         "lon": [
          -73.98142006,
          -73.99510132
         ],
         "marker": {
          "size": 14
         },
         "mode": "markers+lines",
         "type": "scattermapbox"
        },
        {
         "lat": [
          40.754120810779256,
          40.74173969
         ],
         "lon": [
          -73.98025184869765,
          -73.99415556
         ],
         "marker": {
          "size": 14
         },
         "mode": "markers+lines",
         "type": "scattermapbox"
        },
        {
         "lat": [
          40.77037429999999,
          40.7675487799971
         ],
         "lon": [
          -73.9286078,
          -73.92093345522879
         ],
         "marker": {
          "size": 14
         },
         "mode": "markers+lines",
         "type": "scattermapbox"
        },
        {
         "lat": [
          40.749156,
          40.74096374
         ],
         "lon": [
          -73.9916,
          -73.98602213
         ],
         "marker": {
          "size": 14
         },
         "mode": "markers+lines",
         "type": "scattermapbox"
        },
        {
         "lat": [
          40.72066442,
          40.72494672359416
         ],
         "lon": [
          -73.98517977,
          -74.00165855884552
         ],
         "marker": {
          "size": 14
         },
         "mode": "markers+lines",
         "type": "scattermapbox"
        },
        {
         "lat": [
          40.76030096,
          40.75756989999999
         ],
         "lon": [
          -73.99884222,
          -73.99098507
         ],
         "marker": {
          "size": 14
         },
         "mode": "markers+lines",
         "type": "scattermapbox"
        },
        {
         "lat": [
          40.76009437,
          40.749717753
         ],
         "lon": [
          -73.99461843,
          -74.002950346
         ],
         "marker": {
          "size": 14
         },
         "mode": "markers+lines",
         "type": "scattermapbox"
        },
        {
         "lat": [
          40.720873600000004,
          40.72307749068673
         ],
         "lon": [
          -73.98085795,
          -73.98583620786667
         ],
         "marker": {
          "size": 14
         },
         "mode": "markers+lines",
         "type": "scattermapbox"
        },
        {
         "lat": [
          40.6795766,
          40.69580705
         ],
         "lon": [
          -73.97854971,
          -73.97355569
         ],
         "marker": {
          "size": 14
         },
         "mode": "markers+lines",
         "type": "scattermapbox"
        },
        {
         "lat": [
          40.74096374,
          40.75455731
         ],
         "lon": [
          -73.98602213,
          -73.96592976
         ],
         "marker": {
          "size": 14
         },
         "mode": "markers+lines",
         "type": "scattermapbox"
        },
        {
         "lat": [
          40.694546087246025,
          40.702013
         ],
         "lon": [
          -73.95801365375519,
          -73.923769
         ],
         "marker": {
          "size": 14
         },
         "mode": "markers+lines",
         "type": "scattermapbox"
        },
        {
         "lat": [
          40.7505853470215,
          40.715337899999994
         ],
         "lon": [
          -73.9946848154068,
          -74.01658354
         ],
         "marker": {
          "size": 14
         },
         "mode": "markers+lines",
         "type": "scattermapbox"
        },
        {
         "lat": [
          40.71911552,
          40.71485150526252
         ],
         "lon": [
          -74.00666661,
          -74.01122331619263
         ],
         "marker": {
          "size": 14
         },
         "mode": "markers+lines",
         "type": "scattermapbox"
        },
        {
         "lat": [
          40.739445,
          40.74780373
         ],
         "lon": [
          -73.97680600000001,
          -73.97344190000001
         ],
         "marker": {
          "size": 14
         },
         "mode": "markers+lines",
         "type": "scattermapbox"
        },
        {
         "lat": [
          40.75097711,
          40.7568001
         ],
         "lon": [
          -73.98765428,
          -73.98291153
         ],
         "marker": {
          "size": 14
         },
         "mode": "markers+lines",
         "type": "scattermapbox"
        },
        {
         "lat": [
          40.797372100000004,
          40.792255299999994
         ],
         "lon": [
          -73.97041192,
          -73.95249933
         ],
         "marker": {
          "size": 14
         },
         "mode": "markers+lines",
         "type": "scattermapbox"
        },
        {
         "lat": [
          40.69383,
          40.675832943912894
         ],
         "lon": [
          -73.990539,
          -74.01472628116608
         ],
         "marker": {
          "size": 14
         },
         "mode": "markers+lines",
         "type": "scattermapbox"
        },
        {
         "lat": [
          40.76228826,
          40.7652654
         ],
         "lon": [
          -73.98336183,
          -73.98192338
         ],
         "marker": {
          "size": 14
         },
         "mode": "markers+lines",
         "type": "scattermapbox"
        },
        {
         "lat": [
          40.75066386,
          40.7462009
         ],
         "lon": [
          -74.00176802,
          -73.98855723
         ],
         "marker": {
          "size": 14
         },
         "mode": "markers+lines",
         "type": "scattermapbox"
        },
        {
         "lat": [
          40.7390169121,
          40.74395411
         ],
         "lon": [
          -74.0026376103,
          -73.99144871
         ],
         "marker": {
          "size": 14
         },
         "mode": "markers+lines",
         "type": "scattermapbox"
        },
        {
         "lat": [
          40.74177603,
          40.73401143
         ],
         "lon": [
          -74.00149746,
          -74.00293877
         ],
         "marker": {
          "size": 14
         },
         "mode": "markers+lines",
         "type": "scattermapbox"
        },
        {
         "lat": [
          40.74395411,
          40.741459000000006
         ],
         "lon": [
          -73.99144871,
          -73.983293
         ],
         "marker": {
          "size": 14
         },
         "mode": "markers+lines",
         "type": "scattermapbox"
        },
        {
         "lat": [
          40.70838,
          40.70905623
         ],
         "lon": [
          -74.00495,
          -74.01043382
         ],
         "marker": {
          "size": 14
         },
         "mode": "markers+lines",
         "type": "scattermapbox"
        },
        {
         "lat": [
          40.730563000000004,
          40.74780373
         ],
         "lon": [
          -73.973984,
          -73.97344190000001
         ],
         "marker": {
          "size": 14
         },
         "mode": "markers+lines",
         "type": "scattermapbox"
        },
        {
         "lat": [
          40.73331967,
          40.72229346
         ],
         "lon": [
          -73.99510132,
          -73.99147535
         ],
         "marker": {
          "size": 14
         },
         "mode": "markers+lines",
         "type": "scattermapbox"
        },
        {
         "lat": [
          40.720746999999996,
          40.72299208
         ],
         "lon": [
          -73.986274,
          -73.97995466
         ],
         "marker": {
          "size": 14
         },
         "mode": "markers+lines",
         "type": "scattermapbox"
        },
        {
         "lat": [
          40.73020660529954,
          40.715815500000005
         ],
         "lon": [
          -73.99102628231049,
          -73.99422366
         ],
         "marker": {
          "size": 14
         },
         "mode": "markers+lines",
         "type": "scattermapbox"
        },
        {
         "lat": [
          40.73726186,
          40.74345335
         ],
         "lon": [
          -73.99238967,
          -74.00004031
         ],
         "marker": {
          "size": 14
         },
         "mode": "markers+lines",
         "type": "scattermapbox"
        },
        {
         "lat": [
          40.7381765,
          40.745712100000006
         ],
         "lon": [
          -73.97738662,
          -73.98194829
         ],
         "marker": {
          "size": 14
         },
         "mode": "markers+lines",
         "type": "scattermapbox"
        },
        {
         "lat": [
          40.74311555376486,
          40.72307749068673
         ],
         "lon": [
          -73.98215353488922,
          -73.98583620786667
         ],
         "marker": {
          "size": 14
         },
         "mode": "markers+lines",
         "type": "scattermapbox"
        },
        {
         "lat": [
          40.74734825,
          40.73223272
         ],
         "lon": [
          -73.99723551,
          -73.98889957
         ],
         "marker": {
          "size": 14
         },
         "mode": "markers+lines",
         "type": "scattermapbox"
        },
        {
         "lat": [
          40.76087502,
          40.72456089
         ],
         "lon": [
          -74.00277668,
          -73.99565293
         ],
         "marker": {
          "size": 14
         },
         "mode": "markers+lines",
         "type": "scattermapbox"
        },
        {
         "lat": [
          40.74173969,
          40.7390169121
         ],
         "lon": [
          -73.99415556,
          -74.0026376103
         ],
         "marker": {
          "size": 14
         },
         "mode": "markers+lines",
         "type": "scattermapbox"
        },
        {
         "lat": [
          40.71450451,
          40.72966729392978
         ],
         "lon": [
          -74.00562789,
          -73.98067966103555
         ],
         "marker": {
          "size": 14
         },
         "mode": "markers+lines",
         "type": "scattermapbox"
        },
        {
         "lat": [
          40.8006721,
          40.7667405590595
         ],
         "lon": [
          -73.9349,
          -73.9790689945221
         ],
         "marker": {
          "size": 14
         },
         "mode": "markers+lines",
         "type": "scattermapbox"
        },
        {
         "lat": [
          40.774645,
          40.7747878
         ],
         "lon": [
          -73.92370600000001,
          -73.91255509999999
         ],
         "marker": {
          "size": 14
         },
         "mode": "markers+lines",
         "type": "scattermapbox"
        },
        {
         "lat": [
          40.761227399999996,
          40.791976
         ],
         "lon": [
          -73.96094022,
          -73.945993
         ],
         "marker": {
          "size": 14
         },
         "mode": "markers+lines",
         "type": "scattermapbox"
        },
        {
         "lat": [
          40.75500254,
          40.76009437
         ],
         "lon": [
          -73.98014437,
          -73.99461843
         ],
         "marker": {
          "size": 14
         },
         "mode": "markers+lines",
         "type": "scattermapbox"
        },
        {
         "lat": [
          40.740343200000005,
          40.7505853470215
         ],
         "lon": [
          -73.98955109,
          -73.9946848154068
         ],
         "marker": {
          "size": 14
         },
         "mode": "markers+lines",
         "type": "scattermapbox"
        },
        {
         "lat": [
          40.71924,
          40.71924
         ],
         "lon": [
          -73.95241999999999,
          -73.95241999999999
         ],
         "marker": {
          "size": 14
         },
         "mode": "markers+lines",
         "type": "scattermapbox"
        },
        {
         "lat": [
          40.73587678,
          40.75066386
         ],
         "lon": [
          -73.98205027,
          -74.00176802
         ],
         "marker": {
          "size": 14
         },
         "mode": "markers+lines",
         "type": "scattermapbox"
        },
        {
         "lat": [
          40.77492513,
          40.786258600000004
         ],
         "lon": [
          -73.98266566,
          -73.94552579
         ],
         "marker": {
          "size": 14
         },
         "mode": "markers+lines",
         "type": "scattermapbox"
        },
        {
         "lat": [
          40.7462009,
          40.75466591
         ],
         "lon": [
          -73.98855723,
          -73.99138152
         ],
         "marker": {
          "size": 14
         },
         "mode": "markers+lines",
         "type": "scattermapbox"
        }
       ],
       "layout": {
        "hovermode": "closest",
        "mapbox": {
         "accesstoken": "pk.eyJ1IjoibWFyY2VsbG85NiIsImEiOiJjazIzaDhuOGswbXRtM2dtemM4NjZweGttIn0.oV2HBhATRAfIfmgd8VY27w",
         "bearing": 0,
         "center": {
          "lat": 40.75,
          "lon": -73.9
         },
         "pitch": 0,
         "zoom": 10
        },
        "template": {
         "data": {
          "bar": [
           {
            "error_x": {
             "color": "#2a3f5f"
            },
            "error_y": {
             "color": "#2a3f5f"
            },
            "marker": {
             "line": {
              "color": "#E5ECF6",
              "width": 0.5
             }
            },
            "type": "bar"
           }
          ],
          "barpolar": [
           {
            "marker": {
             "line": {
              "color": "#E5ECF6",
              "width": 0.5
             }
            },
            "type": "barpolar"
           }
          ],
          "carpet": [
           {
            "aaxis": {
             "endlinecolor": "#2a3f5f",
             "gridcolor": "white",
             "linecolor": "white",
             "minorgridcolor": "white",
             "startlinecolor": "#2a3f5f"
            },
            "baxis": {
             "endlinecolor": "#2a3f5f",
             "gridcolor": "white",
             "linecolor": "white",
             "minorgridcolor": "white",
             "startlinecolor": "#2a3f5f"
            },
            "type": "carpet"
           }
          ],
          "choropleth": [
           {
            "colorbar": {
             "outlinewidth": 0,
             "ticks": ""
            },
            "type": "choropleth"
           }
          ],
          "contour": [
           {
            "colorbar": {
             "outlinewidth": 0,
             "ticks": ""
            },
            "colorscale": [
             [
              0,
              "#0d0887"
             ],
             [
              0.1111111111111111,
              "#46039f"
             ],
             [
              0.2222222222222222,
              "#7201a8"
             ],
             [
              0.3333333333333333,
              "#9c179e"
             ],
             [
              0.4444444444444444,
              "#bd3786"
             ],
             [
              0.5555555555555556,
              "#d8576b"
             ],
             [
              0.6666666666666666,
              "#ed7953"
             ],
             [
              0.7777777777777778,
              "#fb9f3a"
             ],
             [
              0.8888888888888888,
              "#fdca26"
             ],
             [
              1,
              "#f0f921"
             ]
            ],
            "type": "contour"
           }
          ],
          "contourcarpet": [
           {
            "colorbar": {
             "outlinewidth": 0,
             "ticks": ""
            },
            "type": "contourcarpet"
           }
          ],
          "heatmap": [
           {
            "colorbar": {
             "outlinewidth": 0,
             "ticks": ""
            },
            "colorscale": [
             [
              0,
              "#0d0887"
             ],
             [
              0.1111111111111111,
              "#46039f"
             ],
             [
              0.2222222222222222,
              "#7201a8"
             ],
             [
              0.3333333333333333,
              "#9c179e"
             ],
             [
              0.4444444444444444,
              "#bd3786"
             ],
             [
              0.5555555555555556,
              "#d8576b"
             ],
             [
              0.6666666666666666,
              "#ed7953"
             ],
             [
              0.7777777777777778,
              "#fb9f3a"
             ],
             [
              0.8888888888888888,
              "#fdca26"
             ],
             [
              1,
              "#f0f921"
             ]
            ],
            "type": "heatmap"
           }
          ],
          "heatmapgl": [
           {
            "colorbar": {
             "outlinewidth": 0,
             "ticks": ""
            },
            "colorscale": [
             [
              0,
              "#0d0887"
             ],
             [
              0.1111111111111111,
              "#46039f"
             ],
             [
              0.2222222222222222,
              "#7201a8"
             ],
             [
              0.3333333333333333,
              "#9c179e"
             ],
             [
              0.4444444444444444,
              "#bd3786"
             ],
             [
              0.5555555555555556,
              "#d8576b"
             ],
             [
              0.6666666666666666,
              "#ed7953"
             ],
             [
              0.7777777777777778,
              "#fb9f3a"
             ],
             [
              0.8888888888888888,
              "#fdca26"
             ],
             [
              1,
              "#f0f921"
             ]
            ],
            "type": "heatmapgl"
           }
          ],
          "histogram": [
           {
            "marker": {
             "colorbar": {
              "outlinewidth": 0,
              "ticks": ""
             }
            },
            "type": "histogram"
           }
          ],
          "histogram2d": [
           {
            "colorbar": {
             "outlinewidth": 0,
             "ticks": ""
            },
            "colorscale": [
             [
              0,
              "#0d0887"
             ],
             [
              0.1111111111111111,
              "#46039f"
             ],
             [
              0.2222222222222222,
              "#7201a8"
             ],
             [
              0.3333333333333333,
              "#9c179e"
             ],
             [
              0.4444444444444444,
              "#bd3786"
             ],
             [
              0.5555555555555556,
              "#d8576b"
             ],
             [
              0.6666666666666666,
              "#ed7953"
             ],
             [
              0.7777777777777778,
              "#fb9f3a"
             ],
             [
              0.8888888888888888,
              "#fdca26"
             ],
             [
              1,
              "#f0f921"
             ]
            ],
            "type": "histogram2d"
           }
          ],
          "histogram2dcontour": [
           {
            "colorbar": {
             "outlinewidth": 0,
             "ticks": ""
            },
            "colorscale": [
             [
              0,
              "#0d0887"
             ],
             [
              0.1111111111111111,
              "#46039f"
             ],
             [
              0.2222222222222222,
              "#7201a8"
             ],
             [
              0.3333333333333333,
              "#9c179e"
             ],
             [
              0.4444444444444444,
              "#bd3786"
             ],
             [
              0.5555555555555556,
              "#d8576b"
             ],
             [
              0.6666666666666666,
              "#ed7953"
             ],
             [
              0.7777777777777778,
              "#fb9f3a"
             ],
             [
              0.8888888888888888,
              "#fdca26"
             ],
             [
              1,
              "#f0f921"
             ]
            ],
            "type": "histogram2dcontour"
           }
          ],
          "mesh3d": [
           {
            "colorbar": {
             "outlinewidth": 0,
             "ticks": ""
            },
            "type": "mesh3d"
           }
          ],
          "parcoords": [
           {
            "line": {
             "colorbar": {
              "outlinewidth": 0,
              "ticks": ""
             }
            },
            "type": "parcoords"
           }
          ],
          "pie": [
           {
            "automargin": true,
            "type": "pie"
           }
          ],
          "scatter": [
           {
            "marker": {
             "colorbar": {
              "outlinewidth": 0,
              "ticks": ""
             }
            },
            "type": "scatter"
           }
          ],
          "scatter3d": [
           {
            "line": {
             "colorbar": {
              "outlinewidth": 0,
              "ticks": ""
             }
            },
            "marker": {
             "colorbar": {
              "outlinewidth": 0,
              "ticks": ""
             }
            },
            "type": "scatter3d"
           }
          ],
          "scattercarpet": [
           {
            "marker": {
             "colorbar": {
              "outlinewidth": 0,
              "ticks": ""
             }
            },
            "type": "scattercarpet"
           }
          ],
          "scattergeo": [
           {
            "marker": {
             "colorbar": {
              "outlinewidth": 0,
              "ticks": ""
             }
            },
            "type": "scattergeo"
           }
          ],
          "scattergl": [
           {
            "marker": {
             "colorbar": {
              "outlinewidth": 0,
              "ticks": ""
             }
            },
            "type": "scattergl"
           }
          ],
          "scattermapbox": [
           {
            "marker": {
             "colorbar": {
              "outlinewidth": 0,
              "ticks": ""
             }
            },
            "type": "scattermapbox"
           }
          ],
          "scatterpolar": [
           {
            "marker": {
             "colorbar": {
              "outlinewidth": 0,
              "ticks": ""
             }
            },
            "type": "scatterpolar"
           }
          ],
          "scatterpolargl": [
           {
            "marker": {
             "colorbar": {
              "outlinewidth": 0,
              "ticks": ""
             }
            },
            "type": "scatterpolargl"
           }
          ],
          "scatterternary": [
           {
            "marker": {
             "colorbar": {
              "outlinewidth": 0,
              "ticks": ""
             }
            },
            "type": "scatterternary"
           }
          ],
          "surface": [
           {
            "colorbar": {
             "outlinewidth": 0,
             "ticks": ""
            },
            "colorscale": [
             [
              0,
              "#0d0887"
             ],
             [
              0.1111111111111111,
              "#46039f"
             ],
             [
              0.2222222222222222,
              "#7201a8"
             ],
             [
              0.3333333333333333,
              "#9c179e"
             ],
             [
              0.4444444444444444,
              "#bd3786"
             ],
             [
              0.5555555555555556,
              "#d8576b"
             ],
             [
              0.6666666666666666,
              "#ed7953"
             ],
             [
              0.7777777777777778,
              "#fb9f3a"
             ],
             [
              0.8888888888888888,
              "#fdca26"
             ],
             [
              1,
              "#f0f921"
             ]
            ],
            "type": "surface"
           }
          ],
          "table": [
           {
            "cells": {
             "fill": {
              "color": "#EBF0F8"
             },
             "line": {
              "color": "white"
             }
            },
            "header": {
             "fill": {
              "color": "#C8D4E3"
             },
             "line": {
              "color": "white"
             }
            },
            "type": "table"
           }
          ]
         },
         "layout": {
          "annotationdefaults": {
           "arrowcolor": "#2a3f5f",
           "arrowhead": 0,
           "arrowwidth": 1
          },
          "coloraxis": {
           "colorbar": {
            "outlinewidth": 0,
            "ticks": ""
           }
          },
          "colorscale": {
           "diverging": [
            [
             0,
             "#8e0152"
            ],
            [
             0.1,
             "#c51b7d"
            ],
            [
             0.2,
             "#de77ae"
            ],
            [
             0.3,
             "#f1b6da"
            ],
            [
             0.4,
             "#fde0ef"
            ],
            [
             0.5,
             "#f7f7f7"
            ],
            [
             0.6,
             "#e6f5d0"
            ],
            [
             0.7,
             "#b8e186"
            ],
            [
             0.8,
             "#7fbc41"
            ],
            [
             0.9,
             "#4d9221"
            ],
            [
             1,
             "#276419"
            ]
           ],
           "sequential": [
            [
             0,
             "#0d0887"
            ],
            [
             0.1111111111111111,
             "#46039f"
            ],
            [
             0.2222222222222222,
             "#7201a8"
            ],
            [
             0.3333333333333333,
             "#9c179e"
            ],
            [
             0.4444444444444444,
             "#bd3786"
            ],
            [
             0.5555555555555556,
             "#d8576b"
            ],
            [
             0.6666666666666666,
             "#ed7953"
            ],
            [
             0.7777777777777778,
             "#fb9f3a"
            ],
            [
             0.8888888888888888,
             "#fdca26"
            ],
            [
             1,
             "#f0f921"
            ]
           ],
           "sequentialminus": [
            [
             0,
             "#0d0887"
            ],
            [
             0.1111111111111111,
             "#46039f"
            ],
            [
             0.2222222222222222,
             "#7201a8"
            ],
            [
             0.3333333333333333,
             "#9c179e"
            ],
            [
             0.4444444444444444,
             "#bd3786"
            ],
            [
             0.5555555555555556,
             "#d8576b"
            ],
            [
             0.6666666666666666,
             "#ed7953"
            ],
            [
             0.7777777777777778,
             "#fb9f3a"
            ],
            [
             0.8888888888888888,
             "#fdca26"
            ],
            [
             1,
             "#f0f921"
            ]
           ]
          },
          "colorway": [
           "#636efa",
           "#EF553B",
           "#00cc96",
           "#ab63fa",
           "#FFA15A",
           "#19d3f3",
           "#FF6692",
           "#B6E880",
           "#FF97FF",
           "#FECB52"
          ],
          "font": {
           "color": "#2a3f5f"
          },
          "geo": {
           "bgcolor": "white",
           "lakecolor": "white",
           "landcolor": "#E5ECF6",
           "showlakes": true,
           "showland": true,
           "subunitcolor": "white"
          },
          "hoverlabel": {
           "align": "left"
          },
          "hovermode": "closest",
          "mapbox": {
           "style": "light"
          },
          "paper_bgcolor": "white",
          "plot_bgcolor": "#E5ECF6",
          "polar": {
           "angularaxis": {
            "gridcolor": "white",
            "linecolor": "white",
            "ticks": ""
           },
           "bgcolor": "#E5ECF6",
           "radialaxis": {
            "gridcolor": "white",
            "linecolor": "white",
            "ticks": ""
           }
          },
          "scene": {
           "xaxis": {
            "backgroundcolor": "#E5ECF6",
            "gridcolor": "white",
            "gridwidth": 2,
            "linecolor": "white",
            "showbackground": true,
            "ticks": "",
            "zerolinecolor": "white"
           },
           "yaxis": {
            "backgroundcolor": "#E5ECF6",
            "gridcolor": "white",
            "gridwidth": 2,
            "linecolor": "white",
            "showbackground": true,
            "ticks": "",
            "zerolinecolor": "white"
           },
           "zaxis": {
            "backgroundcolor": "#E5ECF6",
            "gridcolor": "white",
            "gridwidth": 2,
            "linecolor": "white",
            "showbackground": true,
            "ticks": "",
            "zerolinecolor": "white"
           }
          },
          "shapedefaults": {
           "line": {
            "color": "#2a3f5f"
           }
          },
          "ternary": {
           "aaxis": {
            "gridcolor": "white",
            "linecolor": "white",
            "ticks": ""
           },
           "baxis": {
            "gridcolor": "white",
            "linecolor": "white",
            "ticks": ""
           },
           "bgcolor": "#E5ECF6",
           "caxis": {
            "gridcolor": "white",
            "linecolor": "white",
            "ticks": ""
           }
          },
          "title": {
           "x": 0.05
          },
          "xaxis": {
           "automargin": true,
           "gridcolor": "white",
           "linecolor": "white",
           "ticks": "",
           "title": {
            "standoff": 15
           },
           "zerolinecolor": "white",
           "zerolinewidth": 2
          },
          "yaxis": {
           "automargin": true,
           "gridcolor": "white",
           "linecolor": "white",
           "ticks": "",
           "title": {
            "standoff": 15
           },
           "zerolinecolor": "white",
           "zerolinewidth": 2
          }
         }
        }
       }
      },
      "text/html": [
       "<div>\n",
       "        \n",
       "        \n",
       "            <div id=\"a9fd40a9-767a-4386-b542-a40461f669c1\" class=\"plotly-graph-div\" style=\"height:525px; width:100%;\"></div>\n",
       "            <script type=\"text/javascript\">\n",
       "                require([\"plotly\"], function(Plotly) {\n",
       "                    window.PLOTLYENV=window.PLOTLYENV || {};\n",
       "                    \n",
       "                if (document.getElementById(\"a9fd40a9-767a-4386-b542-a40461f669c1\")) {\n",
       "                    Plotly.newPlot(\n",
       "                        'a9fd40a9-767a-4386-b542-a40461f669c1',\n",
       "                        [{\"lat\": [40.751396, 40.73944820130404], \"lon\": [-74.00522600000001, -74.00507032871245], \"marker\": {\"size\": 14}, \"mode\": \"markers+lines\", \"type\": \"scattermapbox\"}, {\"lat\": [40.73935542, 40.73535398], \"lon\": [-73.99931783, -74.00483091], \"marker\": {\"size\": 14}, \"mode\": \"markers+lines\", \"type\": \"scattermapbox\"}, {\"lat\": [40.75929124, 40.76019252], \"lon\": [-73.98859651, -73.9912551], \"marker\": {\"size\": 14}, \"mode\": \"markers+lines\", \"type\": \"scattermapbox\"}, {\"lat\": [40.73291553, 40.732690000000005], \"lon\": [-74.00711384, -73.98974], \"marker\": {\"size\": 14}, \"mode\": \"markers+lines\", \"type\": \"scattermapbox\"}, {\"lat\": [40.771496710544405, 40.771496710544405], \"lon\": [-73.99046033620834, -73.99046033620834], \"marker\": {\"size\": 14}, \"mode\": \"markers+lines\", \"type\": \"scattermapbox\"}, {\"lat\": [40.71117444, 40.71602118], \"lon\": [-73.99682619, -73.99974372], \"marker\": {\"size\": 14}, \"mode\": \"markers+lines\", \"type\": \"scattermapbox\"}, {\"lat\": [40.76019252, 40.749717753], \"lon\": [-73.9912551, -74.002950346], \"marker\": {\"size\": 14}, \"mode\": \"markers+lines\", \"type\": \"scattermapbox\"}, {\"lat\": [40.72740794, 40.73331967], \"lon\": [-73.98142006, -73.99510132], \"marker\": {\"size\": 14}, \"mode\": \"markers+lines\", \"type\": \"scattermapbox\"}, {\"lat\": [40.754120810779256, 40.74173969], \"lon\": [-73.98025184869765, -73.99415556], \"marker\": {\"size\": 14}, \"mode\": \"markers+lines\", \"type\": \"scattermapbox\"}, {\"lat\": [40.77037429999999, 40.7675487799971], \"lon\": [-73.9286078, -73.92093345522879], \"marker\": {\"size\": 14}, \"mode\": \"markers+lines\", \"type\": \"scattermapbox\"}, {\"lat\": [40.749156, 40.74096374], \"lon\": [-73.9916, -73.98602213], \"marker\": {\"size\": 14}, \"mode\": \"markers+lines\", \"type\": \"scattermapbox\"}, {\"lat\": [40.72066442, 40.72494672359416], \"lon\": [-73.98517977, -74.00165855884552], \"marker\": {\"size\": 14}, \"mode\": \"markers+lines\", \"type\": \"scattermapbox\"}, {\"lat\": [40.76030096, 40.75756989999999], \"lon\": [-73.99884222, -73.99098507], \"marker\": {\"size\": 14}, \"mode\": \"markers+lines\", \"type\": \"scattermapbox\"}, {\"lat\": [40.76009437, 40.749717753], \"lon\": [-73.99461843, -74.002950346], \"marker\": {\"size\": 14}, \"mode\": \"markers+lines\", \"type\": \"scattermapbox\"}, {\"lat\": [40.720873600000004, 40.72307749068673], \"lon\": [-73.98085795, -73.98583620786667], \"marker\": {\"size\": 14}, \"mode\": \"markers+lines\", \"type\": \"scattermapbox\"}, {\"lat\": [40.6795766, 40.69580705], \"lon\": [-73.97854971, -73.97355569], \"marker\": {\"size\": 14}, \"mode\": \"markers+lines\", \"type\": \"scattermapbox\"}, {\"lat\": [40.74096374, 40.75455731], \"lon\": [-73.98602213, -73.96592976], \"marker\": {\"size\": 14}, \"mode\": \"markers+lines\", \"type\": \"scattermapbox\"}, {\"lat\": [40.694546087246025, 40.702013], \"lon\": [-73.95801365375519, -73.923769], \"marker\": {\"size\": 14}, \"mode\": \"markers+lines\", \"type\": \"scattermapbox\"}, {\"lat\": [40.7505853470215, 40.715337899999994], \"lon\": [-73.9946848154068, -74.01658354], \"marker\": {\"size\": 14}, \"mode\": \"markers+lines\", \"type\": \"scattermapbox\"}, {\"lat\": [40.71911552, 40.71485150526252], \"lon\": [-74.00666661, -74.01122331619263], \"marker\": {\"size\": 14}, \"mode\": \"markers+lines\", \"type\": \"scattermapbox\"}, {\"lat\": [40.739445, 40.74780373], \"lon\": [-73.97680600000001, -73.97344190000001], \"marker\": {\"size\": 14}, \"mode\": \"markers+lines\", \"type\": \"scattermapbox\"}, {\"lat\": [40.75097711, 40.7568001], \"lon\": [-73.98765428, -73.98291153], \"marker\": {\"size\": 14}, \"mode\": \"markers+lines\", \"type\": \"scattermapbox\"}, {\"lat\": [40.797372100000004, 40.792255299999994], \"lon\": [-73.97041192, -73.95249933], \"marker\": {\"size\": 14}, \"mode\": \"markers+lines\", \"type\": \"scattermapbox\"}, {\"lat\": [40.69383, 40.675832943912894], \"lon\": [-73.990539, -74.01472628116608], \"marker\": {\"size\": 14}, \"mode\": \"markers+lines\", \"type\": \"scattermapbox\"}, {\"lat\": [40.76228826, 40.7652654], \"lon\": [-73.98336183, -73.98192338], \"marker\": {\"size\": 14}, \"mode\": \"markers+lines\", \"type\": \"scattermapbox\"}, {\"lat\": [40.75066386, 40.7462009], \"lon\": [-74.00176802, -73.98855723], \"marker\": {\"size\": 14}, \"mode\": \"markers+lines\", \"type\": \"scattermapbox\"}, {\"lat\": [40.7390169121, 40.74395411], \"lon\": [-74.0026376103, -73.99144871], \"marker\": {\"size\": 14}, \"mode\": \"markers+lines\", \"type\": \"scattermapbox\"}, {\"lat\": [40.74177603, 40.73401143], \"lon\": [-74.00149746, -74.00293877], \"marker\": {\"size\": 14}, \"mode\": \"markers+lines\", \"type\": \"scattermapbox\"}, {\"lat\": [40.74395411, 40.741459000000006], \"lon\": [-73.99144871, -73.983293], \"marker\": {\"size\": 14}, \"mode\": \"markers+lines\", \"type\": \"scattermapbox\"}, {\"lat\": [40.70838, 40.70905623], \"lon\": [-74.00495, -74.01043382], \"marker\": {\"size\": 14}, \"mode\": \"markers+lines\", \"type\": \"scattermapbox\"}, {\"lat\": [40.730563000000004, 40.74780373], \"lon\": [-73.973984, -73.97344190000001], \"marker\": {\"size\": 14}, \"mode\": \"markers+lines\", \"type\": \"scattermapbox\"}, {\"lat\": [40.73331967, 40.72229346], \"lon\": [-73.99510132, -73.99147535], \"marker\": {\"size\": 14}, \"mode\": \"markers+lines\", \"type\": \"scattermapbox\"}, {\"lat\": [40.720746999999996, 40.72299208], \"lon\": [-73.986274, -73.97995466], \"marker\": {\"size\": 14}, \"mode\": \"markers+lines\", \"type\": \"scattermapbox\"}, {\"lat\": [40.73020660529954, 40.715815500000005], \"lon\": [-73.99102628231049, -73.99422366], \"marker\": {\"size\": 14}, \"mode\": \"markers+lines\", \"type\": \"scattermapbox\"}, {\"lat\": [40.73726186, 40.74345335], \"lon\": [-73.99238967, -74.00004031], \"marker\": {\"size\": 14}, \"mode\": \"markers+lines\", \"type\": \"scattermapbox\"}, {\"lat\": [40.7381765, 40.745712100000006], \"lon\": [-73.97738662, -73.98194829], \"marker\": {\"size\": 14}, \"mode\": \"markers+lines\", \"type\": \"scattermapbox\"}, {\"lat\": [40.74311555376486, 40.72307749068673], \"lon\": [-73.98215353488922, -73.98583620786667], \"marker\": {\"size\": 14}, \"mode\": \"markers+lines\", \"type\": \"scattermapbox\"}, {\"lat\": [40.74734825, 40.73223272], \"lon\": [-73.99723551, -73.98889957], \"marker\": {\"size\": 14}, \"mode\": \"markers+lines\", \"type\": \"scattermapbox\"}, {\"lat\": [40.76087502, 40.72456089], \"lon\": [-74.00277668, -73.99565293], \"marker\": {\"size\": 14}, \"mode\": \"markers+lines\", \"type\": \"scattermapbox\"}, {\"lat\": [40.74173969, 40.7390169121], \"lon\": [-73.99415556, -74.0026376103], \"marker\": {\"size\": 14}, \"mode\": \"markers+lines\", \"type\": \"scattermapbox\"}, {\"lat\": [40.71450451, 40.72966729392978], \"lon\": [-74.00562789, -73.98067966103555], \"marker\": {\"size\": 14}, \"mode\": \"markers+lines\", \"type\": \"scattermapbox\"}, {\"lat\": [40.8006721, 40.7667405590595], \"lon\": [-73.9349, -73.9790689945221], \"marker\": {\"size\": 14}, \"mode\": \"markers+lines\", \"type\": \"scattermapbox\"}, {\"lat\": [40.774645, 40.7747878], \"lon\": [-73.92370600000001, -73.91255509999999], \"marker\": {\"size\": 14}, \"mode\": \"markers+lines\", \"type\": \"scattermapbox\"}, {\"lat\": [40.761227399999996, 40.791976], \"lon\": [-73.96094022, -73.945993], \"marker\": {\"size\": 14}, \"mode\": \"markers+lines\", \"type\": \"scattermapbox\"}, {\"lat\": [40.75500254, 40.76009437], \"lon\": [-73.98014437, -73.99461843], \"marker\": {\"size\": 14}, \"mode\": \"markers+lines\", \"type\": \"scattermapbox\"}, {\"lat\": [40.740343200000005, 40.7505853470215], \"lon\": [-73.98955109, -73.9946848154068], \"marker\": {\"size\": 14}, \"mode\": \"markers+lines\", \"type\": \"scattermapbox\"}, {\"lat\": [40.71924, 40.71924], \"lon\": [-73.95241999999999, -73.95241999999999], \"marker\": {\"size\": 14}, \"mode\": \"markers+lines\", \"type\": \"scattermapbox\"}, {\"lat\": [40.73587678, 40.75066386], \"lon\": [-73.98205027, -74.00176802], \"marker\": {\"size\": 14}, \"mode\": \"markers+lines\", \"type\": \"scattermapbox\"}, {\"lat\": [40.77492513, 40.786258600000004], \"lon\": [-73.98266566, -73.94552579], \"marker\": {\"size\": 14}, \"mode\": \"markers+lines\", \"type\": \"scattermapbox\"}, {\"lat\": [40.7462009, 40.75466591], \"lon\": [-73.98855723, -73.99138152], \"marker\": {\"size\": 14}, \"mode\": \"markers+lines\", \"type\": \"scattermapbox\"}],\n",
       "                        {\"hovermode\": \"closest\", \"mapbox\": {\"accesstoken\": \"pk.eyJ1IjoibWFyY2VsbG85NiIsImEiOiJjazIzaDhuOGswbXRtM2dtemM4NjZweGttIn0.oV2HBhATRAfIfmgd8VY27w\", \"bearing\": 0, \"center\": {\"lat\": 40.75, \"lon\": -73.9}, \"pitch\": 0, \"zoom\": 10}, \"template\": {\"data\": {\"bar\": [{\"error_x\": {\"color\": \"#2a3f5f\"}, \"error_y\": {\"color\": \"#2a3f5f\"}, \"marker\": {\"line\": {\"color\": \"#E5ECF6\", \"width\": 0.5}}, \"type\": \"bar\"}], \"barpolar\": [{\"marker\": {\"line\": {\"color\": \"#E5ECF6\", \"width\": 0.5}}, \"type\": \"barpolar\"}], \"carpet\": [{\"aaxis\": {\"endlinecolor\": \"#2a3f5f\", \"gridcolor\": \"white\", \"linecolor\": \"white\", \"minorgridcolor\": \"white\", \"startlinecolor\": \"#2a3f5f\"}, \"baxis\": {\"endlinecolor\": \"#2a3f5f\", \"gridcolor\": \"white\", \"linecolor\": \"white\", \"minorgridcolor\": \"white\", \"startlinecolor\": \"#2a3f5f\"}, \"type\": \"carpet\"}], \"choropleth\": [{\"colorbar\": {\"outlinewidth\": 0, \"ticks\": \"\"}, \"type\": \"choropleth\"}], \"contour\": [{\"colorbar\": {\"outlinewidth\": 0, \"ticks\": \"\"}, \"colorscale\": [[0.0, \"#0d0887\"], [0.1111111111111111, \"#46039f\"], [0.2222222222222222, \"#7201a8\"], [0.3333333333333333, \"#9c179e\"], [0.4444444444444444, \"#bd3786\"], [0.5555555555555556, \"#d8576b\"], [0.6666666666666666, \"#ed7953\"], [0.7777777777777778, \"#fb9f3a\"], [0.8888888888888888, \"#fdca26\"], [1.0, \"#f0f921\"]], \"type\": \"contour\"}], \"contourcarpet\": [{\"colorbar\": {\"outlinewidth\": 0, \"ticks\": \"\"}, \"type\": \"contourcarpet\"}], \"heatmap\": [{\"colorbar\": {\"outlinewidth\": 0, \"ticks\": \"\"}, \"colorscale\": [[0.0, \"#0d0887\"], [0.1111111111111111, \"#46039f\"], [0.2222222222222222, \"#7201a8\"], [0.3333333333333333, \"#9c179e\"], [0.4444444444444444, \"#bd3786\"], [0.5555555555555556, \"#d8576b\"], [0.6666666666666666, \"#ed7953\"], [0.7777777777777778, \"#fb9f3a\"], [0.8888888888888888, \"#fdca26\"], [1.0, \"#f0f921\"]], \"type\": \"heatmap\"}], \"heatmapgl\": [{\"colorbar\": {\"outlinewidth\": 0, \"ticks\": \"\"}, \"colorscale\": [[0.0, \"#0d0887\"], [0.1111111111111111, \"#46039f\"], [0.2222222222222222, \"#7201a8\"], [0.3333333333333333, \"#9c179e\"], [0.4444444444444444, \"#bd3786\"], [0.5555555555555556, \"#d8576b\"], [0.6666666666666666, \"#ed7953\"], [0.7777777777777778, \"#fb9f3a\"], [0.8888888888888888, \"#fdca26\"], [1.0, \"#f0f921\"]], \"type\": \"heatmapgl\"}], \"histogram\": [{\"marker\": {\"colorbar\": {\"outlinewidth\": 0, \"ticks\": \"\"}}, \"type\": \"histogram\"}], \"histogram2d\": [{\"colorbar\": {\"outlinewidth\": 0, \"ticks\": \"\"}, \"colorscale\": [[0.0, \"#0d0887\"], [0.1111111111111111, \"#46039f\"], [0.2222222222222222, \"#7201a8\"], [0.3333333333333333, \"#9c179e\"], [0.4444444444444444, \"#bd3786\"], [0.5555555555555556, \"#d8576b\"], [0.6666666666666666, \"#ed7953\"], [0.7777777777777778, \"#fb9f3a\"], [0.8888888888888888, \"#fdca26\"], [1.0, \"#f0f921\"]], \"type\": \"histogram2d\"}], \"histogram2dcontour\": [{\"colorbar\": {\"outlinewidth\": 0, \"ticks\": \"\"}, \"colorscale\": [[0.0, \"#0d0887\"], [0.1111111111111111, \"#46039f\"], [0.2222222222222222, \"#7201a8\"], [0.3333333333333333, \"#9c179e\"], [0.4444444444444444, \"#bd3786\"], [0.5555555555555556, \"#d8576b\"], [0.6666666666666666, \"#ed7953\"], [0.7777777777777778, \"#fb9f3a\"], [0.8888888888888888, \"#fdca26\"], [1.0, \"#f0f921\"]], \"type\": \"histogram2dcontour\"}], \"mesh3d\": [{\"colorbar\": {\"outlinewidth\": 0, \"ticks\": \"\"}, \"type\": \"mesh3d\"}], \"parcoords\": [{\"line\": {\"colorbar\": {\"outlinewidth\": 0, \"ticks\": \"\"}}, \"type\": \"parcoords\"}], \"pie\": [{\"automargin\": true, \"type\": \"pie\"}], \"scatter\": [{\"marker\": {\"colorbar\": {\"outlinewidth\": 0, \"ticks\": \"\"}}, \"type\": \"scatter\"}], \"scatter3d\": [{\"line\": {\"colorbar\": {\"outlinewidth\": 0, \"ticks\": \"\"}}, \"marker\": {\"colorbar\": {\"outlinewidth\": 0, \"ticks\": \"\"}}, \"type\": \"scatter3d\"}], \"scattercarpet\": [{\"marker\": {\"colorbar\": {\"outlinewidth\": 0, \"ticks\": \"\"}}, \"type\": \"scattercarpet\"}], \"scattergeo\": [{\"marker\": {\"colorbar\": {\"outlinewidth\": 0, \"ticks\": \"\"}}, \"type\": \"scattergeo\"}], \"scattergl\": [{\"marker\": {\"colorbar\": {\"outlinewidth\": 0, \"ticks\": \"\"}}, \"type\": \"scattergl\"}], \"scattermapbox\": [{\"marker\": {\"colorbar\": {\"outlinewidth\": 0, \"ticks\": \"\"}}, \"type\": \"scattermapbox\"}], \"scatterpolar\": [{\"marker\": {\"colorbar\": {\"outlinewidth\": 0, \"ticks\": \"\"}}, \"type\": \"scatterpolar\"}], \"scatterpolargl\": [{\"marker\": {\"colorbar\": {\"outlinewidth\": 0, \"ticks\": \"\"}}, \"type\": \"scatterpolargl\"}], \"scatterternary\": [{\"marker\": {\"colorbar\": {\"outlinewidth\": 0, \"ticks\": \"\"}}, \"type\": \"scatterternary\"}], \"surface\": [{\"colorbar\": {\"outlinewidth\": 0, \"ticks\": \"\"}, \"colorscale\": [[0.0, \"#0d0887\"], [0.1111111111111111, \"#46039f\"], [0.2222222222222222, \"#7201a8\"], [0.3333333333333333, \"#9c179e\"], [0.4444444444444444, \"#bd3786\"], [0.5555555555555556, \"#d8576b\"], [0.6666666666666666, \"#ed7953\"], [0.7777777777777778, \"#fb9f3a\"], [0.8888888888888888, \"#fdca26\"], [1.0, \"#f0f921\"]], \"type\": \"surface\"}], \"table\": [{\"cells\": {\"fill\": {\"color\": \"#EBF0F8\"}, \"line\": {\"color\": \"white\"}}, \"header\": {\"fill\": {\"color\": \"#C8D4E3\"}, \"line\": {\"color\": \"white\"}}, \"type\": \"table\"}]}, \"layout\": {\"annotationdefaults\": {\"arrowcolor\": \"#2a3f5f\", \"arrowhead\": 0, \"arrowwidth\": 1}, \"coloraxis\": {\"colorbar\": {\"outlinewidth\": 0, \"ticks\": \"\"}}, \"colorscale\": {\"diverging\": [[0, \"#8e0152\"], [0.1, \"#c51b7d\"], [0.2, \"#de77ae\"], [0.3, \"#f1b6da\"], [0.4, \"#fde0ef\"], [0.5, \"#f7f7f7\"], [0.6, \"#e6f5d0\"], [0.7, \"#b8e186\"], [0.8, \"#7fbc41\"], [0.9, \"#4d9221\"], [1, \"#276419\"]], \"sequential\": [[0.0, \"#0d0887\"], [0.1111111111111111, \"#46039f\"], [0.2222222222222222, \"#7201a8\"], [0.3333333333333333, \"#9c179e\"], [0.4444444444444444, \"#bd3786\"], [0.5555555555555556, \"#d8576b\"], [0.6666666666666666, \"#ed7953\"], [0.7777777777777778, \"#fb9f3a\"], [0.8888888888888888, \"#fdca26\"], [1.0, \"#f0f921\"]], \"sequentialminus\": [[0.0, \"#0d0887\"], [0.1111111111111111, \"#46039f\"], [0.2222222222222222, \"#7201a8\"], [0.3333333333333333, \"#9c179e\"], [0.4444444444444444, \"#bd3786\"], [0.5555555555555556, \"#d8576b\"], [0.6666666666666666, \"#ed7953\"], [0.7777777777777778, \"#fb9f3a\"], [0.8888888888888888, \"#fdca26\"], [1.0, \"#f0f921\"]]}, \"colorway\": [\"#636efa\", \"#EF553B\", \"#00cc96\", \"#ab63fa\", \"#FFA15A\", \"#19d3f3\", \"#FF6692\", \"#B6E880\", \"#FF97FF\", \"#FECB52\"], \"font\": {\"color\": \"#2a3f5f\"}, \"geo\": {\"bgcolor\": \"white\", \"lakecolor\": \"white\", \"landcolor\": \"#E5ECF6\", \"showlakes\": true, \"showland\": true, \"subunitcolor\": \"white\"}, \"hoverlabel\": {\"align\": \"left\"}, \"hovermode\": \"closest\", \"mapbox\": {\"style\": \"light\"}, \"paper_bgcolor\": \"white\", \"plot_bgcolor\": \"#E5ECF6\", \"polar\": {\"angularaxis\": {\"gridcolor\": \"white\", \"linecolor\": \"white\", \"ticks\": \"\"}, \"bgcolor\": \"#E5ECF6\", \"radialaxis\": {\"gridcolor\": \"white\", \"linecolor\": \"white\", \"ticks\": \"\"}}, \"scene\": {\"xaxis\": {\"backgroundcolor\": \"#E5ECF6\", \"gridcolor\": \"white\", \"gridwidth\": 2, \"linecolor\": \"white\", \"showbackground\": true, \"ticks\": \"\", \"zerolinecolor\": \"white\"}, \"yaxis\": {\"backgroundcolor\": \"#E5ECF6\", \"gridcolor\": \"white\", \"gridwidth\": 2, \"linecolor\": \"white\", \"showbackground\": true, \"ticks\": \"\", \"zerolinecolor\": \"white\"}, \"zaxis\": {\"backgroundcolor\": \"#E5ECF6\", \"gridcolor\": \"white\", \"gridwidth\": 2, \"linecolor\": \"white\", \"showbackground\": true, \"ticks\": \"\", \"zerolinecolor\": \"white\"}}, \"shapedefaults\": {\"line\": {\"color\": \"#2a3f5f\"}}, \"ternary\": {\"aaxis\": {\"gridcolor\": \"white\", \"linecolor\": \"white\", \"ticks\": \"\"}, \"baxis\": {\"gridcolor\": \"white\", \"linecolor\": \"white\", \"ticks\": \"\"}, \"bgcolor\": \"#E5ECF6\", \"caxis\": {\"gridcolor\": \"white\", \"linecolor\": \"white\", \"ticks\": \"\"}}, \"title\": {\"x\": 0.05}, \"xaxis\": {\"automargin\": true, \"gridcolor\": \"white\", \"linecolor\": \"white\", \"ticks\": \"\", \"title\": {\"standoff\": 15}, \"zerolinecolor\": \"white\", \"zerolinewidth\": 2}, \"yaxis\": {\"automargin\": true, \"gridcolor\": \"white\", \"linecolor\": \"white\", \"ticks\": \"\", \"title\": {\"standoff\": 15}, \"zerolinecolor\": \"white\", \"zerolinewidth\": 2}}}},\n",
       "                        {\"responsive\": true}\n",
       "                    ).then(function(){\n",
       "                            \n",
       "var gd = document.getElementById('a9fd40a9-767a-4386-b542-a40461f669c1');\n",
       "var x = new MutationObserver(function (mutations, observer) {{\n",
       "        var display = window.getComputedStyle(gd).display;\n",
       "        if (!display || display === 'none') {{\n",
       "            console.log([gd, 'removed!']);\n",
       "            Plotly.purge(gd);\n",
       "            observer.disconnect();\n",
       "        }}\n",
       "}});\n",
       "\n",
       "// Listen for the removal of the full notebook cells\n",
       "var notebookContainer = gd.closest('#notebook-container');\n",
       "if (notebookContainer) {{\n",
       "    x.observe(notebookContainer, {childList: true});\n",
       "}}\n",
       "\n",
       "// Listen for the clearing of the current output cell\n",
       "var outputEl = gd.closest('.output');\n",
       "if (outputEl) {{\n",
       "    x.observe(outputEl, {childList: true});\n",
       "}}\n",
       "\n",
       "                        })\n",
       "                };\n",
       "                });\n",
       "            </script>\n",
       "        </div>"
      ]
     },
     "metadata": {},
     "output_type": "display_data"
    }
   ],
   "source": [
    "mapbox_access_token = 'pk.eyJ1IjoibWFyY2VsbG85NiIsImEiOiJjazIzaDhuOGswbXRtM2dtemM4NjZweGttIn0.oV2HBhATRAfIfmgd8VY27w'\n",
    "\n",
    "fig = go.Figure([prepare_trace(row) for _,row in mdata.iterrows()])\n",
    "\n",
    "fig.update_layout(\n",
    "    hovermode='closest',\n",
    "    mapbox=go.layout.Mapbox(\n",
    "        accesstoken=mapbox_access_token,\n",
    "        bearing=0,\n",
    "        center=go.layout.mapbox.Center(\n",
    "            lat=40.75,\n",
    "            lon=-73.9\n",
    "        ),\n",
    "        pitch=0,\n",
    "        zoom=10\n",
    "    )\n",
    ")\n",
    "\n",
    "fig.show()"
   ]
  },
  {
   "cell_type": "code",
   "execution_count": 39,
   "metadata": {},
   "outputs": [
    {
     "data": {
      "text/plain": [
       "bike_id\n",
       "39553    431\n",
       "39899    422\n",
       "39339    421\n",
       "34094    411\n",
       "38281    411\n",
       "        ... \n",
       "14620      1\n",
       "20842      1\n",
       "20370      1\n",
       "27285      1\n",
       "31444      1\n",
       "Name: trip_duration, Length: 15875, dtype: int64"
      ]
     },
     "execution_count": 39,
     "metadata": {},
     "output_type": "execute_result"
    }
   ],
   "source": [
    "#plt.clf()\n",
    "data.groupby('bike_id')['trip_duration'].count().sort_values(ascending=False)\n",
    "#plt.show()"
   ]
  },
  {
   "cell_type": "code",
   "execution_count": 8,
   "metadata": {
    "pycharm": {
     "name": "#%%\n"
    }
   },
   "outputs": [
    {
     "data": {
      "text/html": [
       "<div>\n",
       "<style scoped>\n",
       "    .dataframe tbody tr th:only-of-type {\n",
       "        vertical-align: middle;\n",
       "    }\n",
       "\n",
       "    .dataframe tbody tr th {\n",
       "        vertical-align: top;\n",
       "    }\n",
       "\n",
       "    .dataframe thead th {\n",
       "        text-align: right;\n",
       "    }\n",
       "</style>\n",
       "<table border=\"1\" class=\"dataframe\">\n",
       "  <thead>\n",
       "    <tr style=\"text-align: right;\">\n",
       "      <th></th>\n",
       "      <th>trip_duration</th>\n",
       "      <th>start_time</th>\n",
       "      <th>stop_time</th>\n",
       "      <th>start_station_id</th>\n",
       "      <th>start_station_name</th>\n",
       "      <th>start_station_lat</th>\n",
       "      <th>start_station_lon</th>\n",
       "      <th>end_station_id</th>\n",
       "      <th>end_station_name</th>\n",
       "      <th>end_station_lat</th>\n",
       "      <th>end_station_lon</th>\n",
       "      <th>bike_id</th>\n",
       "      <th>user_type</th>\n",
       "      <th>birth_year</th>\n",
       "      <th>gender</th>\n",
       "    </tr>\n",
       "  </thead>\n",
       "  <tbody>\n",
       "    <tr>\n",
       "      <th>359681</th>\n",
       "      <td>3625</td>\n",
       "      <td>2019-09-06 01:38:20.5440</td>\n",
       "      <td>2019-09-06 02:38:45.6000</td>\n",
       "      <td>3256</td>\n",
       "      <td>Pier 40 - Hudson River Park</td>\n",
       "      <td>40.727714</td>\n",
       "      <td>-74.011296</td>\n",
       "      <td>482</td>\n",
       "      <td>W 15 St &amp; 7 Ave</td>\n",
       "      <td>40.739355</td>\n",
       "      <td>-73.999318</td>\n",
       "      <td>20721</td>\n",
       "      <td>Customer</td>\n",
       "      <td>1969</td>\n",
       "      <td>0</td>\n",
       "    </tr>\n",
       "    <tr>\n",
       "      <th>406500</th>\n",
       "      <td>1304</td>\n",
       "      <td>2019-09-06 19:45:48.2820</td>\n",
       "      <td>2019-09-06 20:07:32.4630</td>\n",
       "      <td>3456</td>\n",
       "      <td>Jackson St &amp; Leonard St</td>\n",
       "      <td>40.716380</td>\n",
       "      <td>-73.948213</td>\n",
       "      <td>3778</td>\n",
       "      <td>Irving Ave &amp; DeKalb Ave</td>\n",
       "      <td>40.702700</td>\n",
       "      <td>-73.920950</td>\n",
       "      <td>35266</td>\n",
       "      <td>Customer</td>\n",
       "      <td>1969</td>\n",
       "      <td>0</td>\n",
       "    </tr>\n",
       "    <tr>\n",
       "      <th>396267</th>\n",
       "      <td>264</td>\n",
       "      <td>2019-09-06 15:52:55.4790</td>\n",
       "      <td>2019-09-06 15:57:19.8640</td>\n",
       "      <td>3508</td>\n",
       "      <td>St Nicholas Ave &amp; Manhattan Ave</td>\n",
       "      <td>40.809725</td>\n",
       "      <td>-73.953149</td>\n",
       "      <td>3630</td>\n",
       "      <td>Frederick Douglass Blvd &amp; W 115 St</td>\n",
       "      <td>40.803865</td>\n",
       "      <td>-73.955931</td>\n",
       "      <td>29895</td>\n",
       "      <td>Subscriber</td>\n",
       "      <td>1974</td>\n",
       "      <td>1</td>\n",
       "    </tr>\n",
       "    <tr>\n",
       "      <th>412469</th>\n",
       "      <td>625</td>\n",
       "      <td>2019-09-06 22:48:52.6330</td>\n",
       "      <td>2019-09-06 22:59:18.4280</td>\n",
       "      <td>386</td>\n",
       "      <td>Centre St &amp; Worth St</td>\n",
       "      <td>40.714948</td>\n",
       "      <td>-74.002345</td>\n",
       "      <td>401</td>\n",
       "      <td>Allen St &amp; Rivington St</td>\n",
       "      <td>40.720196</td>\n",
       "      <td>-73.989978</td>\n",
       "      <td>39594</td>\n",
       "      <td>Subscriber</td>\n",
       "      <td>1969</td>\n",
       "      <td>2</td>\n",
       "    </tr>\n",
       "    <tr>\n",
       "      <th>410648</th>\n",
       "      <td>325</td>\n",
       "      <td>2019-09-06 21:40:58.5360</td>\n",
       "      <td>2019-09-06 21:46:24.3760</td>\n",
       "      <td>237</td>\n",
       "      <td>E 11 St &amp; 2 Ave</td>\n",
       "      <td>40.730473</td>\n",
       "      <td>-73.986724</td>\n",
       "      <td>3711</td>\n",
       "      <td>E 13 St &amp; Avenue A</td>\n",
       "      <td>40.729667</td>\n",
       "      <td>-73.980680</td>\n",
       "      <td>31990</td>\n",
       "      <td>Subscriber</td>\n",
       "      <td>1999</td>\n",
       "      <td>1</td>\n",
       "    </tr>\n",
       "    <tr>\n",
       "      <th>369500</th>\n",
       "      <td>1040</td>\n",
       "      <td>2019-09-06 08:14:32.5650</td>\n",
       "      <td>2019-09-06 08:31:53.1330</td>\n",
       "      <td>127</td>\n",
       "      <td>Barrow St &amp; Hudson St</td>\n",
       "      <td>40.731724</td>\n",
       "      <td>-74.006744</td>\n",
       "      <td>376</td>\n",
       "      <td>John St &amp; William St</td>\n",
       "      <td>40.708621</td>\n",
       "      <td>-74.007222</td>\n",
       "      <td>14936</td>\n",
       "      <td>Subscriber</td>\n",
       "      <td>1993</td>\n",
       "      <td>2</td>\n",
       "    </tr>\n",
       "    <tr>\n",
       "      <th>360508</th>\n",
       "      <td>644</td>\n",
       "      <td>2019-09-06 05:29:23.2200</td>\n",
       "      <td>2019-09-06 05:40:07.4160</td>\n",
       "      <td>529</td>\n",
       "      <td>W 42 St &amp; 8 Ave</td>\n",
       "      <td>40.757570</td>\n",
       "      <td>-73.990985</td>\n",
       "      <td>281</td>\n",
       "      <td>Grand Army Plaza &amp; Central Park S</td>\n",
       "      <td>40.764397</td>\n",
       "      <td>-73.973715</td>\n",
       "      <td>38114</td>\n",
       "      <td>Subscriber</td>\n",
       "      <td>1985</td>\n",
       "      <td>1</td>\n",
       "    </tr>\n",
       "    <tr>\n",
       "      <th>411419</th>\n",
       "      <td>488</td>\n",
       "      <td>2019-09-06 22:09:03.7560</td>\n",
       "      <td>2019-09-06 22:17:11.7590</td>\n",
       "      <td>173</td>\n",
       "      <td>Broadway &amp; W 49 St</td>\n",
       "      <td>40.760683</td>\n",
       "      <td>-73.984527</td>\n",
       "      <td>448</td>\n",
       "      <td>W 37 St &amp; 10 Ave</td>\n",
       "      <td>40.756604</td>\n",
       "      <td>-73.997901</td>\n",
       "      <td>25466</td>\n",
       "      <td>Subscriber</td>\n",
       "      <td>1996</td>\n",
       "      <td>1</td>\n",
       "    </tr>\n",
       "    <tr>\n",
       "      <th>403725</th>\n",
       "      <td>529</td>\n",
       "      <td>2019-09-06 18:34:10.7880</td>\n",
       "      <td>2019-09-06 18:42:59.9280</td>\n",
       "      <td>3610</td>\n",
       "      <td>Vernon Blvd &amp; 30 Rd</td>\n",
       "      <td>40.770845</td>\n",
       "      <td>-73.934171</td>\n",
       "      <td>3602</td>\n",
       "      <td>31 Ave &amp; 34 St</td>\n",
       "      <td>40.763154</td>\n",
       "      <td>-73.920827</td>\n",
       "      <td>30128</td>\n",
       "      <td>Customer</td>\n",
       "      <td>1983</td>\n",
       "      <td>1</td>\n",
       "    </tr>\n",
       "    <tr>\n",
       "      <th>407280</th>\n",
       "      <td>1104</td>\n",
       "      <td>2019-09-06 20:03:31.9040</td>\n",
       "      <td>2019-09-06 20:21:56.6010</td>\n",
       "      <td>3163</td>\n",
       "      <td>Central Park West &amp; W 68 St</td>\n",
       "      <td>40.773407</td>\n",
       "      <td>-73.977825</td>\n",
       "      <td>3707</td>\n",
       "      <td>Lexington Ave &amp; E 26 St</td>\n",
       "      <td>40.741459</td>\n",
       "      <td>-73.983293</td>\n",
       "      <td>28192</td>\n",
       "      <td>Subscriber</td>\n",
       "      <td>1991</td>\n",
       "      <td>1</td>\n",
       "    </tr>\n",
       "    <tr>\n",
       "      <th>403174</th>\n",
       "      <td>700</td>\n",
       "      <td>2019-09-06 18:26:15.9890</td>\n",
       "      <td>2019-09-06 18:37:56.7010</td>\n",
       "      <td>438</td>\n",
       "      <td>St Marks Pl &amp; 1 Ave</td>\n",
       "      <td>40.727791</td>\n",
       "      <td>-73.985649</td>\n",
       "      <td>3664</td>\n",
       "      <td>North Moore St &amp; Greenwich St</td>\n",
       "      <td>40.720195</td>\n",
       "      <td>-74.010301</td>\n",
       "      <td>25077</td>\n",
       "      <td>Subscriber</td>\n",
       "      <td>1988</td>\n",
       "      <td>1</td>\n",
       "    </tr>\n",
       "    <tr>\n",
       "      <th>364690</th>\n",
       "      <td>213</td>\n",
       "      <td>2019-09-06 07:26:27.4800</td>\n",
       "      <td>2019-09-06 07:30:00.7560</td>\n",
       "      <td>3290</td>\n",
       "      <td>E 89 St &amp; York Ave</td>\n",
       "      <td>40.777945</td>\n",
       "      <td>-73.946041</td>\n",
       "      <td>3286</td>\n",
       "      <td>E 89 St &amp; 3 Ave</td>\n",
       "      <td>40.780628</td>\n",
       "      <td>-73.952167</td>\n",
       "      <td>35155</td>\n",
       "      <td>Subscriber</td>\n",
       "      <td>1990</td>\n",
       "      <td>1</td>\n",
       "    </tr>\n",
       "    <tr>\n",
       "      <th>397654</th>\n",
       "      <td>529</td>\n",
       "      <td>2019-09-06 17:02:52.5410</td>\n",
       "      <td>2019-09-06 17:11:42.5270</td>\n",
       "      <td>116</td>\n",
       "      <td>W 17 St &amp; 8 Ave</td>\n",
       "      <td>40.741776</td>\n",
       "      <td>-74.001497</td>\n",
       "      <td>3260</td>\n",
       "      <td>Mercer St &amp; Bleecker St</td>\n",
       "      <td>40.727064</td>\n",
       "      <td>-73.996621</td>\n",
       "      <td>31670</td>\n",
       "      <td>Subscriber</td>\n",
       "      <td>1977</td>\n",
       "      <td>1</td>\n",
       "    </tr>\n",
       "    <tr>\n",
       "      <th>361416</th>\n",
       "      <td>758</td>\n",
       "      <td>2019-09-06 06:19:17.4010</td>\n",
       "      <td>2019-09-06 06:31:56.0410</td>\n",
       "      <td>3255</td>\n",
       "      <td>8 Ave &amp; W 31 St</td>\n",
       "      <td>40.750585</td>\n",
       "      <td>-73.994685</td>\n",
       "      <td>456</td>\n",
       "      <td>E 53 St &amp; Madison Ave</td>\n",
       "      <td>40.759711</td>\n",
       "      <td>-73.974023</td>\n",
       "      <td>29196</td>\n",
       "      <td>Subscriber</td>\n",
       "      <td>1981</td>\n",
       "      <td>1</td>\n",
       "    </tr>\n",
       "    <tr>\n",
       "      <th>407842</th>\n",
       "      <td>112</td>\n",
       "      <td>2019-09-06 20:17:28.0700</td>\n",
       "      <td>2019-09-06 20:19:20.2940</td>\n",
       "      <td>3002</td>\n",
       "      <td>South End Ave &amp; Liberty St</td>\n",
       "      <td>40.711512</td>\n",
       "      <td>-74.015756</td>\n",
       "      <td>363</td>\n",
       "      <td>West Thames St</td>\n",
       "      <td>40.708347</td>\n",
       "      <td>-74.017134</td>\n",
       "      <td>21671</td>\n",
       "      <td>Subscriber</td>\n",
       "      <td>1978</td>\n",
       "      <td>1</td>\n",
       "    </tr>\n",
       "    <tr>\n",
       "      <th>388734</th>\n",
       "      <td>2340</td>\n",
       "      <td>2019-09-06 12:09:28.8680</td>\n",
       "      <td>2019-09-06 12:48:29.7690</td>\n",
       "      <td>496</td>\n",
       "      <td>E 16 St &amp; 5 Ave</td>\n",
       "      <td>40.737262</td>\n",
       "      <td>-73.992390</td>\n",
       "      <td>369</td>\n",
       "      <td>Washington Pl &amp; 6 Ave</td>\n",
       "      <td>40.732241</td>\n",
       "      <td>-74.000264</td>\n",
       "      <td>38808</td>\n",
       "      <td>Subscriber</td>\n",
       "      <td>1991</td>\n",
       "      <td>1</td>\n",
       "    </tr>\n",
       "    <tr>\n",
       "      <th>358834</th>\n",
       "      <td>1383</td>\n",
       "      <td>2019-09-06 00:09:14.8110</td>\n",
       "      <td>2019-09-06 00:32:18.5470</td>\n",
       "      <td>296</td>\n",
       "      <td>Division St &amp; Bowery</td>\n",
       "      <td>40.714131</td>\n",
       "      <td>-73.997047</td>\n",
       "      <td>3365</td>\n",
       "      <td>3 St &amp; 7 Ave</td>\n",
       "      <td>40.670384</td>\n",
       "      <td>-73.978397</td>\n",
       "      <td>29168</td>\n",
       "      <td>Subscriber</td>\n",
       "      <td>1981</td>\n",
       "      <td>1</td>\n",
       "    </tr>\n",
       "    <tr>\n",
       "      <th>411401</th>\n",
       "      <td>1204</td>\n",
       "      <td>2019-09-06 22:08:29.8720</td>\n",
       "      <td>2019-09-06 22:28:34.6190</td>\n",
       "      <td>472</td>\n",
       "      <td>E 32 St &amp; Park Ave</td>\n",
       "      <td>40.745712</td>\n",
       "      <td>-73.981948</td>\n",
       "      <td>446</td>\n",
       "      <td>W 24 St &amp; 7 Ave</td>\n",
       "      <td>40.744876</td>\n",
       "      <td>-73.995299</td>\n",
       "      <td>39219</td>\n",
       "      <td>Subscriber</td>\n",
       "      <td>1980</td>\n",
       "      <td>1</td>\n",
       "    </tr>\n",
       "    <tr>\n",
       "      <th>374947</th>\n",
       "      <td>351</td>\n",
       "      <td>2019-09-06 08:52:41.9210</td>\n",
       "      <td>2019-09-06 08:58:33.1250</td>\n",
       "      <td>254</td>\n",
       "      <td>W 11 St &amp; 6 Ave</td>\n",
       "      <td>40.735324</td>\n",
       "      <td>-73.998004</td>\n",
       "      <td>503</td>\n",
       "      <td>E 20 St &amp; Park Ave</td>\n",
       "      <td>40.738274</td>\n",
       "      <td>-73.987520</td>\n",
       "      <td>30360</td>\n",
       "      <td>Subscriber</td>\n",
       "      <td>1975</td>\n",
       "      <td>1</td>\n",
       "    </tr>\n",
       "    <tr>\n",
       "      <th>405006</th>\n",
       "      <td>150</td>\n",
       "      <td>2019-09-06 19:09:57.1050</td>\n",
       "      <td>2019-09-06 19:12:27.2130</td>\n",
       "      <td>3502</td>\n",
       "      <td>Lexington Ave &amp; E 111 St</td>\n",
       "      <td>40.795412</td>\n",
       "      <td>-73.944123</td>\n",
       "      <td>3496</td>\n",
       "      <td>1 Ave &amp; E 110 St</td>\n",
       "      <td>40.792327</td>\n",
       "      <td>-73.938300</td>\n",
       "      <td>30209</td>\n",
       "      <td>Subscriber</td>\n",
       "      <td>1990</td>\n",
       "      <td>1</td>\n",
       "    </tr>\n",
       "    <tr>\n",
       "      <th>372547</th>\n",
       "      <td>623</td>\n",
       "      <td>2019-09-06 08:36:47.2810</td>\n",
       "      <td>2019-09-06 08:47:10.5440</td>\n",
       "      <td>3712</td>\n",
       "      <td>W 35 St &amp; Dyer Ave</td>\n",
       "      <td>40.754692</td>\n",
       "      <td>-73.997402</td>\n",
       "      <td>442</td>\n",
       "      <td>W 27 St &amp; 7 Ave</td>\n",
       "      <td>40.746647</td>\n",
       "      <td>-73.993915</td>\n",
       "      <td>32028</td>\n",
       "      <td>Subscriber</td>\n",
       "      <td>1998</td>\n",
       "      <td>2</td>\n",
       "    </tr>\n",
       "    <tr>\n",
       "      <th>396103</th>\n",
       "      <td>1643</td>\n",
       "      <td>2019-09-06 15:35:47.9740</td>\n",
       "      <td>2019-09-06 16:03:11.1560</td>\n",
       "      <td>268</td>\n",
       "      <td>Howard St &amp; Centre St</td>\n",
       "      <td>40.719105</td>\n",
       "      <td>-73.999733</td>\n",
       "      <td>385</td>\n",
       "      <td>E 55 St &amp; 2 Ave</td>\n",
       "      <td>40.757973</td>\n",
       "      <td>-73.966033</td>\n",
       "      <td>30833</td>\n",
       "      <td>Subscriber</td>\n",
       "      <td>1970</td>\n",
       "      <td>1</td>\n",
       "    </tr>\n",
       "    <tr>\n",
       "      <th>413876</th>\n",
       "      <td>352</td>\n",
       "      <td>2019-09-06 23:59:09.1190</td>\n",
       "      <td>2019-09-07 00:05:02.0070</td>\n",
       "      <td>3440</td>\n",
       "      <td>Fulton St &amp; Adams St</td>\n",
       "      <td>40.692418</td>\n",
       "      <td>-73.989495</td>\n",
       "      <td>398</td>\n",
       "      <td>Atlantic Ave &amp; Furman St</td>\n",
       "      <td>40.691652</td>\n",
       "      <td>-73.999979</td>\n",
       "      <td>38187</td>\n",
       "      <td>Subscriber</td>\n",
       "      <td>1981</td>\n",
       "      <td>1</td>\n",
       "    </tr>\n",
       "    <tr>\n",
       "      <th>386507</th>\n",
       "      <td>230</td>\n",
       "      <td>2019-09-06 11:31:01.4350</td>\n",
       "      <td>2019-09-06 11:34:51.5520</td>\n",
       "      <td>3179</td>\n",
       "      <td>Park Ave &amp; Marcus Garvey Blvd</td>\n",
       "      <td>40.698617</td>\n",
       "      <td>-73.941342</td>\n",
       "      <td>3060</td>\n",
       "      <td>Willoughby Ave &amp; Tompkins Ave</td>\n",
       "      <td>40.694254</td>\n",
       "      <td>-73.946269</td>\n",
       "      <td>29730</td>\n",
       "      <td>Subscriber</td>\n",
       "      <td>1985</td>\n",
       "      <td>2</td>\n",
       "    </tr>\n",
       "    <tr>\n",
       "      <th>392878</th>\n",
       "      <td>329</td>\n",
       "      <td>2019-09-06 13:50:21.1940</td>\n",
       "      <td>2019-09-06 13:55:50.4270</td>\n",
       "      <td>151</td>\n",
       "      <td>Cleveland Pl &amp; Spring St</td>\n",
       "      <td>40.722104</td>\n",
       "      <td>-73.997249</td>\n",
       "      <td>312</td>\n",
       "      <td>Allen St &amp; Stanton St</td>\n",
       "      <td>40.722055</td>\n",
       "      <td>-73.989111</td>\n",
       "      <td>28816</td>\n",
       "      <td>Subscriber</td>\n",
       "      <td>1988</td>\n",
       "      <td>2</td>\n",
       "    </tr>\n",
       "    <tr>\n",
       "      <th>364097</th>\n",
       "      <td>1377</td>\n",
       "      <td>2019-09-06 07:17:00.7240</td>\n",
       "      <td>2019-09-06 07:39:58.6540</td>\n",
       "      <td>3412</td>\n",
       "      <td>Pacific St &amp; Nevins St</td>\n",
       "      <td>40.685376</td>\n",
       "      <td>-73.983021</td>\n",
       "      <td>426</td>\n",
       "      <td>West St &amp; Chambers St</td>\n",
       "      <td>40.717548</td>\n",
       "      <td>-74.013221</td>\n",
       "      <td>39443</td>\n",
       "      <td>Subscriber</td>\n",
       "      <td>1963</td>\n",
       "      <td>1</td>\n",
       "    </tr>\n",
       "    <tr>\n",
       "      <th>363184</th>\n",
       "      <td>579</td>\n",
       "      <td>2019-09-06 07:00:56.7280</td>\n",
       "      <td>2019-09-06 07:10:36.6870</td>\n",
       "      <td>3255</td>\n",
       "      <td>8 Ave &amp; W 31 St</td>\n",
       "      <td>40.750585</td>\n",
       "      <td>-73.994685</td>\n",
       "      <td>519</td>\n",
       "      <td>Pershing Square North</td>\n",
       "      <td>40.751873</td>\n",
       "      <td>-73.977706</td>\n",
       "      <td>33832</td>\n",
       "      <td>Subscriber</td>\n",
       "      <td>1984</td>\n",
       "      <td>1</td>\n",
       "    </tr>\n",
       "    <tr>\n",
       "      <th>383228</th>\n",
       "      <td>494</td>\n",
       "      <td>2019-09-06 10:29:27.8200</td>\n",
       "      <td>2019-09-06 10:37:42.2440</td>\n",
       "      <td>490</td>\n",
       "      <td>8 Ave &amp; W 33 St</td>\n",
       "      <td>40.751551</td>\n",
       "      <td>-73.993934</td>\n",
       "      <td>173</td>\n",
       "      <td>Broadway &amp; W 49 St</td>\n",
       "      <td>40.760683</td>\n",
       "      <td>-73.984527</td>\n",
       "      <td>36383</td>\n",
       "      <td>Subscriber</td>\n",
       "      <td>1972</td>\n",
       "      <td>1</td>\n",
       "    </tr>\n",
       "    <tr>\n",
       "      <th>371148</th>\n",
       "      <td>424</td>\n",
       "      <td>2019-09-06 08:26:54.2170</td>\n",
       "      <td>2019-09-06 08:33:58.5940</td>\n",
       "      <td>3507</td>\n",
       "      <td>Park Ave &amp; E 124 St</td>\n",
       "      <td>40.804555</td>\n",
       "      <td>-73.939686</td>\n",
       "      <td>3540</td>\n",
       "      <td>Morningside Ave &amp; W 123 St</td>\n",
       "      <td>40.810000</td>\n",
       "      <td>-73.955151</td>\n",
       "      <td>15662</td>\n",
       "      <td>Subscriber</td>\n",
       "      <td>1969</td>\n",
       "      <td>0</td>\n",
       "    </tr>\n",
       "    <tr>\n",
       "      <th>371463</th>\n",
       "      <td>356</td>\n",
       "      <td>2019-09-06 08:29:17.3700</td>\n",
       "      <td>2019-09-06 08:35:13.6120</td>\n",
       "      <td>383</td>\n",
       "      <td>Greenwich Ave &amp; Charles St</td>\n",
       "      <td>40.735238</td>\n",
       "      <td>-74.000271</td>\n",
       "      <td>402</td>\n",
       "      <td>Broadway &amp; E 22 St</td>\n",
       "      <td>40.740343</td>\n",
       "      <td>-73.989551</td>\n",
       "      <td>26568</td>\n",
       "      <td>Subscriber</td>\n",
       "      <td>1993</td>\n",
       "      <td>1</td>\n",
       "    </tr>\n",
       "    <tr>\n",
       "      <th>373354</th>\n",
       "      <td>976</td>\n",
       "      <td>2019-09-06 08:41:46.0480</td>\n",
       "      <td>2019-09-06 08:58:02.6370</td>\n",
       "      <td>432</td>\n",
       "      <td>E 7 St &amp; Avenue A</td>\n",
       "      <td>40.726218</td>\n",
       "      <td>-73.983799</td>\n",
       "      <td>519</td>\n",
       "      <td>Pershing Square North</td>\n",
       "      <td>40.751873</td>\n",
       "      <td>-73.977706</td>\n",
       "      <td>26524</td>\n",
       "      <td>Customer</td>\n",
       "      <td>1992</td>\n",
       "      <td>1</td>\n",
       "    </tr>\n",
       "    <tr>\n",
       "      <th>400149</th>\n",
       "      <td>1204</td>\n",
       "      <td>2019-09-06 17:49:15.8830</td>\n",
       "      <td>2019-09-06 18:09:20.0440</td>\n",
       "      <td>305</td>\n",
       "      <td>E 58 St &amp; 3 Ave</td>\n",
       "      <td>40.760958</td>\n",
       "      <td>-73.967245</td>\n",
       "      <td>442</td>\n",
       "      <td>W 27 St &amp; 7 Ave</td>\n",
       "      <td>40.746647</td>\n",
       "      <td>-73.993915</td>\n",
       "      <td>17348</td>\n",
       "      <td>Subscriber</td>\n",
       "      <td>1992</td>\n",
       "      <td>1</td>\n",
       "    </tr>\n",
       "    <tr>\n",
       "      <th>389002</th>\n",
       "      <td>825</td>\n",
       "      <td>2019-09-06 12:14:16.7550</td>\n",
       "      <td>2019-09-06 12:28:02.1850</td>\n",
       "      <td>493</td>\n",
       "      <td>W 45 St &amp; 6 Ave</td>\n",
       "      <td>40.756800</td>\n",
       "      <td>-73.982912</td>\n",
       "      <td>3154</td>\n",
       "      <td>E 77 St &amp; 3 Ave</td>\n",
       "      <td>40.773142</td>\n",
       "      <td>-73.958562</td>\n",
       "      <td>35293</td>\n",
       "      <td>Subscriber</td>\n",
       "      <td>1979</td>\n",
       "      <td>1</td>\n",
       "    </tr>\n",
       "    <tr>\n",
       "      <th>372925</th>\n",
       "      <td>349</td>\n",
       "      <td>2019-09-06 08:39:05.1630</td>\n",
       "      <td>2019-09-06 08:44:54.9760</td>\n",
       "      <td>3718</td>\n",
       "      <td>E 11 St &amp; Avenue B</td>\n",
       "      <td>40.727464</td>\n",
       "      <td>-73.979504</td>\n",
       "      <td>293</td>\n",
       "      <td>Lafayette St &amp; E 8 St</td>\n",
       "      <td>40.730207</td>\n",
       "      <td>-73.991026</td>\n",
       "      <td>18257</td>\n",
       "      <td>Subscriber</td>\n",
       "      <td>1992</td>\n",
       "      <td>1</td>\n",
       "    </tr>\n",
       "    <tr>\n",
       "      <th>373092</th>\n",
       "      <td>1365</td>\n",
       "      <td>2019-09-06 08:40:04.0300</td>\n",
       "      <td>2019-09-06 09:02:49.1100</td>\n",
       "      <td>3169</td>\n",
       "      <td>Riverside Dr &amp; W 82 St</td>\n",
       "      <td>40.787209</td>\n",
       "      <td>-73.981281</td>\n",
       "      <td>426</td>\n",
       "      <td>West St &amp; Chambers St</td>\n",
       "      <td>40.717548</td>\n",
       "      <td>-74.013221</td>\n",
       "      <td>29167</td>\n",
       "      <td>Subscriber</td>\n",
       "      <td>1968</td>\n",
       "      <td>1</td>\n",
       "    </tr>\n",
       "    <tr>\n",
       "      <th>402578</th>\n",
       "      <td>210</td>\n",
       "      <td>2019-09-06 18:19:27.9200</td>\n",
       "      <td>2019-09-06 18:22:58.5550</td>\n",
       "      <td>439</td>\n",
       "      <td>E 4 St &amp; 2 Ave</td>\n",
       "      <td>40.726281</td>\n",
       "      <td>-73.989780</td>\n",
       "      <td>432</td>\n",
       "      <td>E 7 St &amp; Avenue A</td>\n",
       "      <td>40.726218</td>\n",
       "      <td>-73.983799</td>\n",
       "      <td>34943</td>\n",
       "      <td>Subscriber</td>\n",
       "      <td>1967</td>\n",
       "      <td>1</td>\n",
       "    </tr>\n",
       "    <tr>\n",
       "      <th>382653</th>\n",
       "      <td>698</td>\n",
       "      <td>2019-09-06 10:19:23.8890</td>\n",
       "      <td>2019-09-06 10:31:02.6720</td>\n",
       "      <td>474</td>\n",
       "      <td>5 Ave &amp; E 29 St</td>\n",
       "      <td>40.745168</td>\n",
       "      <td>-73.986831</td>\n",
       "      <td>3680</td>\n",
       "      <td>E 43 St &amp; 5 Ave</td>\n",
       "      <td>40.754121</td>\n",
       "      <td>-73.980252</td>\n",
       "      <td>39558</td>\n",
       "      <td>Subscriber</td>\n",
       "      <td>1962</td>\n",
       "      <td>1</td>\n",
       "    </tr>\n",
       "    <tr>\n",
       "      <th>365297</th>\n",
       "      <td>1268</td>\n",
       "      <td>2019-09-06 07:34:00.4160</td>\n",
       "      <td>2019-09-06 07:55:08.6850</td>\n",
       "      <td>2012</td>\n",
       "      <td>E 27 St &amp; 1 Ave</td>\n",
       "      <td>40.739445</td>\n",
       "      <td>-73.976806</td>\n",
       "      <td>264</td>\n",
       "      <td>Maiden Ln &amp; Pearl St</td>\n",
       "      <td>40.707065</td>\n",
       "      <td>-74.007319</td>\n",
       "      <td>38714</td>\n",
       "      <td>Subscriber</td>\n",
       "      <td>1983</td>\n",
       "      <td>2</td>\n",
       "    </tr>\n",
       "    <tr>\n",
       "      <th>380804</th>\n",
       "      <td>1182</td>\n",
       "      <td>2019-09-06 09:50:13.2350</td>\n",
       "      <td>2019-09-06 10:09:55.4620</td>\n",
       "      <td>531</td>\n",
       "      <td>Forsyth St &amp; Broome St</td>\n",
       "      <td>40.718939</td>\n",
       "      <td>-73.992663</td>\n",
       "      <td>116</td>\n",
       "      <td>W 17 St &amp; 8 Ave</td>\n",
       "      <td>40.741776</td>\n",
       "      <td>-74.001497</td>\n",
       "      <td>25461</td>\n",
       "      <td>Subscriber</td>\n",
       "      <td>1996</td>\n",
       "      <td>1</td>\n",
       "    </tr>\n",
       "    <tr>\n",
       "      <th>398446</th>\n",
       "      <td>758</td>\n",
       "      <td>2019-09-06 17:22:32.1060</td>\n",
       "      <td>2019-09-06 17:35:10.9440</td>\n",
       "      <td>3435</td>\n",
       "      <td>Grand St &amp; Elizabeth St</td>\n",
       "      <td>40.718822</td>\n",
       "      <td>-73.995960</td>\n",
       "      <td>400</td>\n",
       "      <td>Pitt St &amp; Stanton St</td>\n",
       "      <td>40.719261</td>\n",
       "      <td>-73.981780</td>\n",
       "      <td>38361</td>\n",
       "      <td>Customer</td>\n",
       "      <td>1982</td>\n",
       "      <td>1</td>\n",
       "    </tr>\n",
       "    <tr>\n",
       "      <th>394181</th>\n",
       "      <td>1582</td>\n",
       "      <td>2019-09-06 14:23:22.3620</td>\n",
       "      <td>2019-09-06 14:49:44.5180</td>\n",
       "      <td>249</td>\n",
       "      <td>Harrison St &amp; Hudson St</td>\n",
       "      <td>40.718710</td>\n",
       "      <td>-74.009001</td>\n",
       "      <td>473</td>\n",
       "      <td>Rivington St &amp; Chrystie St</td>\n",
       "      <td>40.721101</td>\n",
       "      <td>-73.991925</td>\n",
       "      <td>28030</td>\n",
       "      <td>Subscriber</td>\n",
       "      <td>1968</td>\n",
       "      <td>1</td>\n",
       "    </tr>\n",
       "    <tr>\n",
       "      <th>364983</th>\n",
       "      <td>324</td>\n",
       "      <td>2019-09-06 07:30:06.5330</td>\n",
       "      <td>2019-09-06 07:35:30.5940</td>\n",
       "      <td>3255</td>\n",
       "      <td>8 Ave &amp; W 31 St</td>\n",
       "      <td>40.750585</td>\n",
       "      <td>-73.994685</td>\n",
       "      <td>388</td>\n",
       "      <td>W 26 St &amp; 10 Ave</td>\n",
       "      <td>40.749718</td>\n",
       "      <td>-74.002950</td>\n",
       "      <td>28200</td>\n",
       "      <td>Subscriber</td>\n",
       "      <td>1984</td>\n",
       "      <td>1</td>\n",
       "    </tr>\n",
       "    <tr>\n",
       "      <th>388019</th>\n",
       "      <td>694</td>\n",
       "      <td>2019-09-06 11:57:36.0500</td>\n",
       "      <td>2019-09-06 12:09:10.5890</td>\n",
       "      <td>3656</td>\n",
       "      <td>E 2 St &amp; Avenue A</td>\n",
       "      <td>40.723077</td>\n",
       "      <td>-73.985836</td>\n",
       "      <td>377</td>\n",
       "      <td>6 Ave &amp; Canal St</td>\n",
       "      <td>40.722438</td>\n",
       "      <td>-74.005664</td>\n",
       "      <td>33195</td>\n",
       "      <td>Subscriber</td>\n",
       "      <td>1992</td>\n",
       "      <td>1</td>\n",
       "    </tr>\n",
       "    <tr>\n",
       "      <th>388757</th>\n",
       "      <td>611</td>\n",
       "      <td>2019-09-06 12:09:54.3670</td>\n",
       "      <td>2019-09-06 12:20:05.7060</td>\n",
       "      <td>304</td>\n",
       "      <td>Broadway &amp; Battery Pl</td>\n",
       "      <td>40.704633</td>\n",
       "      <td>-74.013617</td>\n",
       "      <td>327</td>\n",
       "      <td>Vesey Pl &amp; River Terrace</td>\n",
       "      <td>40.715338</td>\n",
       "      <td>-74.016584</td>\n",
       "      <td>32647</td>\n",
       "      <td>Subscriber</td>\n",
       "      <td>1987</td>\n",
       "      <td>1</td>\n",
       "    </tr>\n",
       "    <tr>\n",
       "      <th>371188</th>\n",
       "      <td>246</td>\n",
       "      <td>2019-09-06 08:27:11.1320</td>\n",
       "      <td>2019-09-06 08:31:17.5770</td>\n",
       "      <td>229</td>\n",
       "      <td>Great Jones St</td>\n",
       "      <td>40.727434</td>\n",
       "      <td>-73.993790</td>\n",
       "      <td>3463</td>\n",
       "      <td>E 16 St &amp; Irving Pl</td>\n",
       "      <td>40.735367</td>\n",
       "      <td>-73.987974</td>\n",
       "      <td>27224</td>\n",
       "      <td>Subscriber</td>\n",
       "      <td>1983</td>\n",
       "      <td>2</td>\n",
       "    </tr>\n",
       "    <tr>\n",
       "      <th>377626</th>\n",
       "      <td>914</td>\n",
       "      <td>2019-09-06 09:15:09.3230</td>\n",
       "      <td>2019-09-06 09:30:23.7720</td>\n",
       "      <td>317</td>\n",
       "      <td>E 6 St &amp; Avenue B</td>\n",
       "      <td>40.724537</td>\n",
       "      <td>-73.981854</td>\n",
       "      <td>355</td>\n",
       "      <td>Bayard St &amp; Baxter St</td>\n",
       "      <td>40.716021</td>\n",
       "      <td>-73.999744</td>\n",
       "      <td>30561</td>\n",
       "      <td>Subscriber</td>\n",
       "      <td>1984</td>\n",
       "      <td>1</td>\n",
       "    </tr>\n",
       "    <tr>\n",
       "      <th>367616</th>\n",
       "      <td>1120</td>\n",
       "      <td>2019-09-06 07:58:11.4400</td>\n",
       "      <td>2019-09-06 08:16:51.9090</td>\n",
       "      <td>514</td>\n",
       "      <td>12 Ave &amp; W 40 St</td>\n",
       "      <td>40.760875</td>\n",
       "      <td>-74.002777</td>\n",
       "      <td>426</td>\n",
       "      <td>West St &amp; Chambers St</td>\n",
       "      <td>40.717548</td>\n",
       "      <td>-74.013221</td>\n",
       "      <td>38499</td>\n",
       "      <td>Subscriber</td>\n",
       "      <td>1969</td>\n",
       "      <td>1</td>\n",
       "    </tr>\n",
       "    <tr>\n",
       "      <th>413774</th>\n",
       "      <td>303</td>\n",
       "      <td>2019-09-06 23:54:31.2540</td>\n",
       "      <td>2019-09-06 23:59:34.9640</td>\n",
       "      <td>3175</td>\n",
       "      <td>W 70 St &amp; Amsterdam Ave</td>\n",
       "      <td>40.777480</td>\n",
       "      <td>-73.982886</td>\n",
       "      <td>530</td>\n",
       "      <td>11 Ave &amp; W 59 St</td>\n",
       "      <td>40.771497</td>\n",
       "      <td>-73.990460</td>\n",
       "      <td>14881</td>\n",
       "      <td>Subscriber</td>\n",
       "      <td>1998</td>\n",
       "      <td>1</td>\n",
       "    </tr>\n",
       "    <tr>\n",
       "      <th>390155</th>\n",
       "      <td>1833</td>\n",
       "      <td>2019-09-06 12:33:09.7160</td>\n",
       "      <td>2019-09-06 13:03:43.3970</td>\n",
       "      <td>341</td>\n",
       "      <td>Stanton St &amp; Mangin St</td>\n",
       "      <td>40.717821</td>\n",
       "      <td>-73.976289</td>\n",
       "      <td>3799</td>\n",
       "      <td>6 Ave &amp; W 34 St</td>\n",
       "      <td>40.749640</td>\n",
       "      <td>-73.988050</td>\n",
       "      <td>15146</td>\n",
       "      <td>Customer</td>\n",
       "      <td>1969</td>\n",
       "      <td>0</td>\n",
       "    </tr>\n",
       "    <tr>\n",
       "      <th>409968</th>\n",
       "      <td>1335</td>\n",
       "      <td>2019-09-06 21:18:20.3430</td>\n",
       "      <td>2019-09-06 21:40:35.8070</td>\n",
       "      <td>3609</td>\n",
       "      <td>Vernon Blvd &amp; 31 Ave</td>\n",
       "      <td>40.769247</td>\n",
       "      <td>-73.935450</td>\n",
       "      <td>3609</td>\n",
       "      <td>Vernon Blvd &amp; 31 Ave</td>\n",
       "      <td>40.769247</td>\n",
       "      <td>-73.935450</td>\n",
       "      <td>21290</td>\n",
       "      <td>Subscriber</td>\n",
       "      <td>1998</td>\n",
       "      <td>1</td>\n",
       "    </tr>\n",
       "  </tbody>\n",
       "</table>\n",
       "</div>"
      ],
      "text/plain": [
       "        trip_duration                start_time                 stop_time  \\\n",
       "359681           3625  2019-09-06 01:38:20.5440  2019-09-06 02:38:45.6000   \n",
       "406500           1304  2019-09-06 19:45:48.2820  2019-09-06 20:07:32.4630   \n",
       "396267            264  2019-09-06 15:52:55.4790  2019-09-06 15:57:19.8640   \n",
       "412469            625  2019-09-06 22:48:52.6330  2019-09-06 22:59:18.4280   \n",
       "410648            325  2019-09-06 21:40:58.5360  2019-09-06 21:46:24.3760   \n",
       "369500           1040  2019-09-06 08:14:32.5650  2019-09-06 08:31:53.1330   \n",
       "360508            644  2019-09-06 05:29:23.2200  2019-09-06 05:40:07.4160   \n",
       "411419            488  2019-09-06 22:09:03.7560  2019-09-06 22:17:11.7590   \n",
       "403725            529  2019-09-06 18:34:10.7880  2019-09-06 18:42:59.9280   \n",
       "407280           1104  2019-09-06 20:03:31.9040  2019-09-06 20:21:56.6010   \n",
       "403174            700  2019-09-06 18:26:15.9890  2019-09-06 18:37:56.7010   \n",
       "364690            213  2019-09-06 07:26:27.4800  2019-09-06 07:30:00.7560   \n",
       "397654            529  2019-09-06 17:02:52.5410  2019-09-06 17:11:42.5270   \n",
       "361416            758  2019-09-06 06:19:17.4010  2019-09-06 06:31:56.0410   \n",
       "407842            112  2019-09-06 20:17:28.0700  2019-09-06 20:19:20.2940   \n",
       "388734           2340  2019-09-06 12:09:28.8680  2019-09-06 12:48:29.7690   \n",
       "358834           1383  2019-09-06 00:09:14.8110  2019-09-06 00:32:18.5470   \n",
       "411401           1204  2019-09-06 22:08:29.8720  2019-09-06 22:28:34.6190   \n",
       "374947            351  2019-09-06 08:52:41.9210  2019-09-06 08:58:33.1250   \n",
       "405006            150  2019-09-06 19:09:57.1050  2019-09-06 19:12:27.2130   \n",
       "372547            623  2019-09-06 08:36:47.2810  2019-09-06 08:47:10.5440   \n",
       "396103           1643  2019-09-06 15:35:47.9740  2019-09-06 16:03:11.1560   \n",
       "413876            352  2019-09-06 23:59:09.1190  2019-09-07 00:05:02.0070   \n",
       "386507            230  2019-09-06 11:31:01.4350  2019-09-06 11:34:51.5520   \n",
       "392878            329  2019-09-06 13:50:21.1940  2019-09-06 13:55:50.4270   \n",
       "364097           1377  2019-09-06 07:17:00.7240  2019-09-06 07:39:58.6540   \n",
       "363184            579  2019-09-06 07:00:56.7280  2019-09-06 07:10:36.6870   \n",
       "383228            494  2019-09-06 10:29:27.8200  2019-09-06 10:37:42.2440   \n",
       "371148            424  2019-09-06 08:26:54.2170  2019-09-06 08:33:58.5940   \n",
       "371463            356  2019-09-06 08:29:17.3700  2019-09-06 08:35:13.6120   \n",
       "373354            976  2019-09-06 08:41:46.0480  2019-09-06 08:58:02.6370   \n",
       "400149           1204  2019-09-06 17:49:15.8830  2019-09-06 18:09:20.0440   \n",
       "389002            825  2019-09-06 12:14:16.7550  2019-09-06 12:28:02.1850   \n",
       "372925            349  2019-09-06 08:39:05.1630  2019-09-06 08:44:54.9760   \n",
       "373092           1365  2019-09-06 08:40:04.0300  2019-09-06 09:02:49.1100   \n",
       "402578            210  2019-09-06 18:19:27.9200  2019-09-06 18:22:58.5550   \n",
       "382653            698  2019-09-06 10:19:23.8890  2019-09-06 10:31:02.6720   \n",
       "365297           1268  2019-09-06 07:34:00.4160  2019-09-06 07:55:08.6850   \n",
       "380804           1182  2019-09-06 09:50:13.2350  2019-09-06 10:09:55.4620   \n",
       "398446            758  2019-09-06 17:22:32.1060  2019-09-06 17:35:10.9440   \n",
       "394181           1582  2019-09-06 14:23:22.3620  2019-09-06 14:49:44.5180   \n",
       "364983            324  2019-09-06 07:30:06.5330  2019-09-06 07:35:30.5940   \n",
       "388019            694  2019-09-06 11:57:36.0500  2019-09-06 12:09:10.5890   \n",
       "388757            611  2019-09-06 12:09:54.3670  2019-09-06 12:20:05.7060   \n",
       "371188            246  2019-09-06 08:27:11.1320  2019-09-06 08:31:17.5770   \n",
       "377626            914  2019-09-06 09:15:09.3230  2019-09-06 09:30:23.7720   \n",
       "367616           1120  2019-09-06 07:58:11.4400  2019-09-06 08:16:51.9090   \n",
       "413774            303  2019-09-06 23:54:31.2540  2019-09-06 23:59:34.9640   \n",
       "390155           1833  2019-09-06 12:33:09.7160  2019-09-06 13:03:43.3970   \n",
       "409968           1335  2019-09-06 21:18:20.3430  2019-09-06 21:40:35.8070   \n",
       "\n",
       "        start_station_id               start_station_name  start_station_lat  \\\n",
       "359681              3256      Pier 40 - Hudson River Park          40.727714   \n",
       "406500              3456          Jackson St & Leonard St          40.716380   \n",
       "396267              3508  St Nicholas Ave & Manhattan Ave          40.809725   \n",
       "412469               386             Centre St & Worth St          40.714948   \n",
       "410648               237                  E 11 St & 2 Ave          40.730473   \n",
       "369500               127            Barrow St & Hudson St          40.731724   \n",
       "360508               529                  W 42 St & 8 Ave          40.757570   \n",
       "411419               173               Broadway & W 49 St          40.760683   \n",
       "403725              3610              Vernon Blvd & 30 Rd          40.770845   \n",
       "407280              3163      Central Park West & W 68 St          40.773407   \n",
       "403174               438              St Marks Pl & 1 Ave          40.727791   \n",
       "364690              3290               E 89 St & York Ave          40.777945   \n",
       "397654               116                  W 17 St & 8 Ave          40.741776   \n",
       "361416              3255                  8 Ave & W 31 St          40.750585   \n",
       "407842              3002       South End Ave & Liberty St          40.711512   \n",
       "388734               496                  E 16 St & 5 Ave          40.737262   \n",
       "358834               296             Division St & Bowery          40.714131   \n",
       "411401               472               E 32 St & Park Ave          40.745712   \n",
       "374947               254                  W 11 St & 6 Ave          40.735324   \n",
       "405006              3502         Lexington Ave & E 111 St          40.795412   \n",
       "372547              3712               W 35 St & Dyer Ave          40.754692   \n",
       "396103               268            Howard St & Centre St          40.719105   \n",
       "413876              3440             Fulton St & Adams St          40.692418   \n",
       "386507              3179    Park Ave & Marcus Garvey Blvd          40.698617   \n",
       "392878               151         Cleveland Pl & Spring St          40.722104   \n",
       "364097              3412           Pacific St & Nevins St          40.685376   \n",
       "363184              3255                  8 Ave & W 31 St          40.750585   \n",
       "383228               490                  8 Ave & W 33 St          40.751551   \n",
       "371148              3507              Park Ave & E 124 St          40.804555   \n",
       "371463               383       Greenwich Ave & Charles St          40.735238   \n",
       "373354               432                E 7 St & Avenue A          40.726218   \n",
       "400149               305                  E 58 St & 3 Ave          40.760958   \n",
       "389002               493                  W 45 St & 6 Ave          40.756800   \n",
       "372925              3718               E 11 St & Avenue B          40.727464   \n",
       "373092              3169           Riverside Dr & W 82 St          40.787209   \n",
       "402578               439                   E 4 St & 2 Ave          40.726281   \n",
       "382653               474                  5 Ave & E 29 St          40.745168   \n",
       "365297              2012                  E 27 St & 1 Ave          40.739445   \n",
       "380804               531           Forsyth St & Broome St          40.718939   \n",
       "398446              3435          Grand St & Elizabeth St          40.718822   \n",
       "394181               249          Harrison St & Hudson St          40.718710   \n",
       "364983              3255                  8 Ave & W 31 St          40.750585   \n",
       "388019              3656                E 2 St & Avenue A          40.723077   \n",
       "388757               304            Broadway & Battery Pl          40.704633   \n",
       "371188               229                   Great Jones St          40.727434   \n",
       "377626               317                E 6 St & Avenue B          40.724537   \n",
       "367616               514                 12 Ave & W 40 St          40.760875   \n",
       "413774              3175          W 70 St & Amsterdam Ave          40.777480   \n",
       "390155               341           Stanton St & Mangin St          40.717821   \n",
       "409968              3609             Vernon Blvd & 31 Ave          40.769247   \n",
       "\n",
       "        start_station_lon  end_station_id                    end_station_name  \\\n",
       "359681         -74.011296             482                     W 15 St & 7 Ave   \n",
       "406500         -73.948213            3778             Irving Ave & DeKalb Ave   \n",
       "396267         -73.953149            3630  Frederick Douglass Blvd & W 115 St   \n",
       "412469         -74.002345             401             Allen St & Rivington St   \n",
       "410648         -73.986724            3711                  E 13 St & Avenue A   \n",
       "369500         -74.006744             376                John St & William St   \n",
       "360508         -73.990985             281   Grand Army Plaza & Central Park S   \n",
       "411419         -73.984527             448                    W 37 St & 10 Ave   \n",
       "403725         -73.934171            3602                      31 Ave & 34 St   \n",
       "407280         -73.977825            3707             Lexington Ave & E 26 St   \n",
       "403174         -73.985649            3664       North Moore St & Greenwich St   \n",
       "364690         -73.946041            3286                     E 89 St & 3 Ave   \n",
       "397654         -74.001497            3260             Mercer St & Bleecker St   \n",
       "361416         -73.994685             456               E 53 St & Madison Ave   \n",
       "407842         -74.015756             363                      West Thames St   \n",
       "388734         -73.992390             369               Washington Pl & 6 Ave   \n",
       "358834         -73.997047            3365                        3 St & 7 Ave   \n",
       "411401         -73.981948             446                     W 24 St & 7 Ave   \n",
       "374947         -73.998004             503                  E 20 St & Park Ave   \n",
       "405006         -73.944123            3496                    1 Ave & E 110 St   \n",
       "372547         -73.997402             442                     W 27 St & 7 Ave   \n",
       "396103         -73.999733             385                     E 55 St & 2 Ave   \n",
       "413876         -73.989495             398            Atlantic Ave & Furman St   \n",
       "386507         -73.941342            3060       Willoughby Ave & Tompkins Ave   \n",
       "392878         -73.997249             312               Allen St & Stanton St   \n",
       "364097         -73.983021             426               West St & Chambers St   \n",
       "363184         -73.994685             519               Pershing Square North   \n",
       "383228         -73.993934             173                  Broadway & W 49 St   \n",
       "371148         -73.939686            3540          Morningside Ave & W 123 St   \n",
       "371463         -74.000271             402                  Broadway & E 22 St   \n",
       "373354         -73.983799             519               Pershing Square North   \n",
       "400149         -73.967245             442                     W 27 St & 7 Ave   \n",
       "389002         -73.982912            3154                     E 77 St & 3 Ave   \n",
       "372925         -73.979504             293               Lafayette St & E 8 St   \n",
       "373092         -73.981281             426               West St & Chambers St   \n",
       "402578         -73.989780             432                   E 7 St & Avenue A   \n",
       "382653         -73.986831            3680                     E 43 St & 5 Ave   \n",
       "365297         -73.976806             264                Maiden Ln & Pearl St   \n",
       "380804         -73.992663             116                     W 17 St & 8 Ave   \n",
       "398446         -73.995960             400                Pitt St & Stanton St   \n",
       "394181         -74.009001             473          Rivington St & Chrystie St   \n",
       "364983         -73.994685             388                    W 26 St & 10 Ave   \n",
       "388019         -73.985836             377                    6 Ave & Canal St   \n",
       "388757         -74.013617             327            Vesey Pl & River Terrace   \n",
       "371188         -73.993790            3463                 E 16 St & Irving Pl   \n",
       "377626         -73.981854             355               Bayard St & Baxter St   \n",
       "367616         -74.002777             426               West St & Chambers St   \n",
       "413774         -73.982886             530                    11 Ave & W 59 St   \n",
       "390155         -73.976289            3799                     6 Ave & W 34 St   \n",
       "409968         -73.935450            3609                Vernon Blvd & 31 Ave   \n",
       "\n",
       "        end_station_lat  end_station_lon  bike_id   user_type  birth_year  \\\n",
       "359681        40.739355       -73.999318    20721    Customer        1969   \n",
       "406500        40.702700       -73.920950    35266    Customer        1969   \n",
       "396267        40.803865       -73.955931    29895  Subscriber        1974   \n",
       "412469        40.720196       -73.989978    39594  Subscriber        1969   \n",
       "410648        40.729667       -73.980680    31990  Subscriber        1999   \n",
       "369500        40.708621       -74.007222    14936  Subscriber        1993   \n",
       "360508        40.764397       -73.973715    38114  Subscriber        1985   \n",
       "411419        40.756604       -73.997901    25466  Subscriber        1996   \n",
       "403725        40.763154       -73.920827    30128    Customer        1983   \n",
       "407280        40.741459       -73.983293    28192  Subscriber        1991   \n",
       "403174        40.720195       -74.010301    25077  Subscriber        1988   \n",
       "364690        40.780628       -73.952167    35155  Subscriber        1990   \n",
       "397654        40.727064       -73.996621    31670  Subscriber        1977   \n",
       "361416        40.759711       -73.974023    29196  Subscriber        1981   \n",
       "407842        40.708347       -74.017134    21671  Subscriber        1978   \n",
       "388734        40.732241       -74.000264    38808  Subscriber        1991   \n",
       "358834        40.670384       -73.978397    29168  Subscriber        1981   \n",
       "411401        40.744876       -73.995299    39219  Subscriber        1980   \n",
       "374947        40.738274       -73.987520    30360  Subscriber        1975   \n",
       "405006        40.792327       -73.938300    30209  Subscriber        1990   \n",
       "372547        40.746647       -73.993915    32028  Subscriber        1998   \n",
       "396103        40.757973       -73.966033    30833  Subscriber        1970   \n",
       "413876        40.691652       -73.999979    38187  Subscriber        1981   \n",
       "386507        40.694254       -73.946269    29730  Subscriber        1985   \n",
       "392878        40.722055       -73.989111    28816  Subscriber        1988   \n",
       "364097        40.717548       -74.013221    39443  Subscriber        1963   \n",
       "363184        40.751873       -73.977706    33832  Subscriber        1984   \n",
       "383228        40.760683       -73.984527    36383  Subscriber        1972   \n",
       "371148        40.810000       -73.955151    15662  Subscriber        1969   \n",
       "371463        40.740343       -73.989551    26568  Subscriber        1993   \n",
       "373354        40.751873       -73.977706    26524    Customer        1992   \n",
       "400149        40.746647       -73.993915    17348  Subscriber        1992   \n",
       "389002        40.773142       -73.958562    35293  Subscriber        1979   \n",
       "372925        40.730207       -73.991026    18257  Subscriber        1992   \n",
       "373092        40.717548       -74.013221    29167  Subscriber        1968   \n",
       "402578        40.726218       -73.983799    34943  Subscriber        1967   \n",
       "382653        40.754121       -73.980252    39558  Subscriber        1962   \n",
       "365297        40.707065       -74.007319    38714  Subscriber        1983   \n",
       "380804        40.741776       -74.001497    25461  Subscriber        1996   \n",
       "398446        40.719261       -73.981780    38361    Customer        1982   \n",
       "394181        40.721101       -73.991925    28030  Subscriber        1968   \n",
       "364983        40.749718       -74.002950    28200  Subscriber        1984   \n",
       "388019        40.722438       -74.005664    33195  Subscriber        1992   \n",
       "388757        40.715338       -74.016584    32647  Subscriber        1987   \n",
       "371188        40.735367       -73.987974    27224  Subscriber        1983   \n",
       "377626        40.716021       -73.999744    30561  Subscriber        1984   \n",
       "367616        40.717548       -74.013221    38499  Subscriber        1969   \n",
       "413774        40.771497       -73.990460    14881  Subscriber        1998   \n",
       "390155        40.749640       -73.988050    15146    Customer        1969   \n",
       "409968        40.769247       -73.935450    21290  Subscriber        1998   \n",
       "\n",
       "        gender  \n",
       "359681       0  \n",
       "406500       0  \n",
       "396267       1  \n",
       "412469       2  \n",
       "410648       1  \n",
       "369500       2  \n",
       "360508       1  \n",
       "411419       1  \n",
       "403725       1  \n",
       "407280       1  \n",
       "403174       1  \n",
       "364690       1  \n",
       "397654       1  \n",
       "361416       1  \n",
       "407842       1  \n",
       "388734       1  \n",
       "358834       1  \n",
       "411401       1  \n",
       "374947       1  \n",
       "405006       1  \n",
       "372547       2  \n",
       "396103       1  \n",
       "413876       1  \n",
       "386507       2  \n",
       "392878       2  \n",
       "364097       1  \n",
       "363184       1  \n",
       "383228       1  \n",
       "371148       0  \n",
       "371463       1  \n",
       "373354       1  \n",
       "400149       1  \n",
       "389002       1  \n",
       "372925       1  \n",
       "373092       1  \n",
       "402578       1  \n",
       "382653       1  \n",
       "365297       2  \n",
       "380804       1  \n",
       "398446       1  \n",
       "394181       1  \n",
       "364983       1  \n",
       "388019       1  \n",
       "388757       1  \n",
       "371188       2  \n",
       "377626       1  \n",
       "367616       1  \n",
       "413774       1  \n",
       "390155       0  \n",
       "409968       1  "
      ]
     },
     "execution_count": 8,
     "metadata": {},
     "output_type": "execute_result"
    }
   ],
   "source": [
    "\n",
    "mdata"
   ]
  },
  {
   "cell_type": "code",
   "execution_count": null,
   "metadata": {},
   "outputs": [],
   "source": []
  }
 ],
 "metadata": {
  "kernelspec": {
   "display_name": "Python 3",
   "language": "python",
   "name": "python3"
  },
  "language_info": {
   "codemirror_mode": {
    "name": "ipython",
    "version": 3
   },
   "file_extension": ".py",
   "mimetype": "text/x-python",
   "name": "python",
   "nbconvert_exporter": "python",
   "pygments_lexer": "ipython3",
   "version": "3.7.3"
  },
  "pycharm": {
   "stem_cell": {
    "cell_type": "raw",
    "metadata": {
     "collapsed": false
    },
    "source": []
   }
  }
 },
 "nbformat": 4,
 "nbformat_minor": 1
}
